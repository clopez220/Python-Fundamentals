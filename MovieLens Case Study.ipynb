{
 "cells": [
  {
   "cell_type": "markdown",
   "metadata": {
    "id": "iRhzXbEc6XZi"
   },
   "source": [
    "<center><p float=\"center\">\n",
    "  <img src=\"https://www.luminacodepro.com/images/logo.png\" width=\"300\" height=\"100\"/>\n",
    " </p></center>\n",
    "\n",
    "<h1><center><font size=10>Data Science and Business Analytics</center></font></h1>\n",
    "<h1><center>Python for Data Science: NumPy and Pandas - Week 2</center></h1>\n"
   ]
  },
  {
   "cell_type": "markdown",
   "metadata": {
    "id": "3-YLu2c168XZ"
   },
   "source": [
    "<center><img src=\"https://lajoyalink.com/wp-content/uploads/2022/03/235860-900x562.jpg\" width=\"800\" height=\"400\"></center>\n",
    "\n",
    "<b><h2><center>MovieLens Case Study</center></h2></b>"
   ]
  },
  {
   "cell_type": "markdown",
   "metadata": {
    "id": "Mygs6wUQWfKZ"
   },
   "source": [
    "### **Session Agenda**\n",
    "- Introduction to Numpy and Pandas\n",
    "- Overview of the datasets\n",
    "- Getting Familiar with Pandas functions\n",
    "- Extracting useful insights from the data\n"
   ]
  },
  {
   "cell_type": "markdown",
   "metadata": {
    "id": "SDUX0JveX9LU"
   },
   "source": [
    "### **Context**\n",
    "The movie rating system that film buffs know today has been around for over 50 years. Over the years, the cultural standards and norms have changed and so have movie ratings. However, even today the process of rating a film remains a closely guarded industry secret.\n"
   ]
  },
  {
   "cell_type": "markdown",
   "metadata": {
    "id": "dmfoUkaGgZZb"
   },
   "source": [
    "### **Objective**\n",
    "MovieLens is a company in the internet and entertainment domain that has an online database of information related to films, television series, online streaming content – including cast, production crew, trivia, ratings, and fan and critical reviews. You have been hired as a Data Scientist for the company. You have been provided with the following three datasets, asked to carry out a detailed analysis of the data, and come up with some meaningful insights which will help the company to address their users in a better way.<br>\n",
    "<br>\n",
    "- **movie.csv**: The file contains information related to the movies and their genres. Columns: movie id, movie title, release date, Action, Adventure, Animation, Children’s, Comedy, Crime, Documentary, Drama, Fantasy, Film-Noir, Horror, Musical, Mystery, Romance, Sci-Fi, Thriller, War, Western<br>\n",
    "- **user.csv**: It contains information about the users who have rated the movies. Columns: user id, age, gender, occupation, zip code<br>\n",
    "- **ratings.csv**: It contains information for ratings given by the users to a particular movie. Columns: user id, movie id, rating, timestamp<br>\n",
    "<br>"
   ]
  },
  {
   "cell_type": "markdown",
   "metadata": {
    "id": "Umu80ujrgr5y"
   },
   "source": [
    "One of the first steps to carry out any analysis is to import the necessary libraries that will help us to carry out various operations on the data. <br><br>**NumPy, Pandas** are the most widely used python libraries in data science. It provides high-performance, easy to use structures and data analysis tools. <br>So let us first import **NumPy and Pandas** so that we can utilize the functions available in these libararies to analyze our data better.**"
   ]
  },
  {
   "cell_type": "markdown",
   "metadata": {
    "id": "WqXbfMjbgr-i"
   },
   "source": [
    "### **Importing the necessary packages**"
   ]
  },
  {
   "cell_type": "code",
   "execution_count": 1,
   "metadata": {
    "id": "PfpEUIkrjp_F"
   },
   "outputs": [
    {
     "name": "stdout",
     "output_type": "stream",
     "text": [
      "Defaulting to user installation because normal site-packages is not writeable\n",
      "Requirement already satisfied: pandas in c:\\programdata\\anaconda3\\lib\\site-packages (2.0.3)\n",
      "Requirement already satisfied: python-dateutil>=2.8.2 in c:\\programdata\\anaconda3\\lib\\site-packages (from pandas) (2.8.2)\n",
      "Requirement already satisfied: pytz>=2020.1 in c:\\programdata\\anaconda3\\lib\\site-packages (from pandas) (2023.3.post1)\n",
      "Requirement already satisfied: tzdata>=2022.1 in c:\\programdata\\anaconda3\\lib\\site-packages (from pandas) (2023.3)\n",
      "Requirement already satisfied: numpy>=1.21.0 in c:\\programdata\\anaconda3\\lib\\site-packages (from pandas) (1.24.3)\n",
      "Requirement already satisfied: six>=1.5 in c:\\programdata\\anaconda3\\lib\\site-packages (from python-dateutil>=2.8.2->pandas) (1.16.0)\n",
      "Defaulting to user installation because normal site-packages is not writeable\n",
      "Requirement already satisfied: openpyxl in c:\\programdata\\anaconda3\\lib\\site-packages (3.0.10)\n",
      "Requirement already satisfied: et_xmlfile in c:\\programdata\\anaconda3\\lib\\site-packages (from openpyxl) (1.1.0)\n"
     ]
    }
   ],
   "source": [
    "# Install pandas if needed\n",
    "!pip install pandas\n",
    "# Install openpyxl for reading Excel files\n",
    "!pip install openpyxl\n",
    "import pandas as pd\n",
    "import numpy as np"
   ]
  },
  {
   "cell_type": "markdown",
   "metadata": {
    "id": "aJLMqoHEkgDi"
   },
   "source": [
    "Now we have imported pandas as pd and numpy as np. Here 'as' is used as an alias."
   ]
  },
  {
   "cell_type": "markdown",
   "metadata": {
    "id": "33USfwjdj2NK"
   },
   "source": [
    "Let's load all the three datasets using Pandas **read** function so that we can start with our analysis using them"
   ]
  },
  {
   "cell_type": "markdown",
   "metadata": {
    "id": "_mDeMP0HkVt-"
   },
   "source": [
    "### **Reading the datasets**"
   ]
  },
  {
   "cell_type": "code",
   "execution_count": 2,
   "metadata": {
    "id": "ap755OMmk33X"
   },
   "outputs": [],
   "source": [
    "# Leer conjuntos de datos usando 'read_csv' del paquete de pandas\n",
    "import pandas as pd  # Ensure pandas is imported\n",
    "\n",
    "# Use raw strings to avoid issues with backslashes in Windows file paths\n",
    "user = pd.read_csv(r\"C:/Users/clope/OneDrive/Escritorio/Data Science/Python - Fundamentos/MLS/MLS2/user.csv\")\n",
    "ratings = pd.read_csv(r\"C:/Users/clope/OneDrive/Escritorio/Data Science/Python - Fundamentos/MLS/MLS2/rating.csv\")\n",
    "\n",
    "# Correct method for reading Excel files is 'read_excel'\n",
    "movie = pd.read_excel(\"C:/Users/clope/OneDrive/Escritorio/Data Science/Python - Fundamentos/MLS/MLS2/Movie.xlsx\")\n"
   ]
  },
  {
   "cell_type": "markdown",
   "metadata": {
    "id": "ykioo1s1Ub18"
   },
   "source": [
    "### **Data Overview**"
   ]
  },
  {
   "cell_type": "markdown",
   "metadata": {
    "id": "YNBuTaD_saTl"
   },
   "source": [
    "The initial steps to understand any dataset is to: \n",
    "- observe the first few rows of the dataset, to check whether the dataset has been loaded properly or not\n",
    "- get information about the number of rows and columns in the dataset\n",
    "- find out the data types of the columns to ensure that data is stored in the preferred format and the value of each property is as expected.\n",
    "- check the statistical summary of the dataset to get an overview of the numerical columns of the data\n",
    "\n",
    "Let us now delve deeper into each of the datasets individually and understand this aspects well "
   ]
  },
  {
   "cell_type": "markdown",
   "metadata": {
    "id": "SkS6tTPXCRiM"
   },
   "source": [
    "#### **User Dataset**"
   ]
  },
  {
   "cell_type": "markdown",
   "metadata": {
    "id": "pk8xFwBXCTWS"
   },
   "source": [
    "#### **Displaying the first 5 rows of the user dataset**"
   ]
  },
  {
   "cell_type": "markdown",
   "metadata": {
    "id": "Vi3R7DwrmkT6"
   },
   "source": [
    "The **head()** function will help us to have a glimpse of the first 5 rows of the dataset"
   ]
  },
  {
   "cell_type": "code",
   "execution_count": 3,
   "metadata": {
    "colab": {
     "base_uri": "https://localhost:8080/",
     "height": 206
    },
    "id": "ZxvnSKt9C3hS",
    "outputId": "f15b169f-6506-4ad2-8e0f-ac5a080128f6"
   },
   "outputs": [
    {
     "data": {
      "text/html": [
       "<div>\n",
       "<style scoped>\n",
       "    .dataframe tbody tr th:only-of-type {\n",
       "        vertical-align: middle;\n",
       "    }\n",
       "\n",
       "    .dataframe tbody tr th {\n",
       "        vertical-align: top;\n",
       "    }\n",
       "\n",
       "    .dataframe thead th {\n",
       "        text-align: right;\n",
       "    }\n",
       "</style>\n",
       "<table border=\"1\" class=\"dataframe\">\n",
       "  <thead>\n",
       "    <tr style=\"text-align: right;\">\n",
       "      <th></th>\n",
       "      <th>user id</th>\n",
       "      <th>age</th>\n",
       "      <th>gender</th>\n",
       "      <th>occupation</th>\n",
       "      <th>zip code</th>\n",
       "    </tr>\n",
       "  </thead>\n",
       "  <tbody>\n",
       "    <tr>\n",
       "      <th>0</th>\n",
       "      <td>1</td>\n",
       "      <td>24</td>\n",
       "      <td>M</td>\n",
       "      <td>technician</td>\n",
       "      <td>85711</td>\n",
       "    </tr>\n",
       "    <tr>\n",
       "      <th>1</th>\n",
       "      <td>2</td>\n",
       "      <td>53</td>\n",
       "      <td>F</td>\n",
       "      <td>other</td>\n",
       "      <td>94043</td>\n",
       "    </tr>\n",
       "    <tr>\n",
       "      <th>2</th>\n",
       "      <td>3</td>\n",
       "      <td>23</td>\n",
       "      <td>M</td>\n",
       "      <td>writer</td>\n",
       "      <td>32067</td>\n",
       "    </tr>\n",
       "    <tr>\n",
       "      <th>3</th>\n",
       "      <td>4</td>\n",
       "      <td>24</td>\n",
       "      <td>M</td>\n",
       "      <td>technician</td>\n",
       "      <td>43537</td>\n",
       "    </tr>\n",
       "    <tr>\n",
       "      <th>4</th>\n",
       "      <td>5</td>\n",
       "      <td>33</td>\n",
       "      <td>F</td>\n",
       "      <td>other</td>\n",
       "      <td>15213</td>\n",
       "    </tr>\n",
       "  </tbody>\n",
       "</table>\n",
       "</div>"
      ],
      "text/plain": [
       "   user id  age gender  occupation zip code\n",
       "0        1   24      M  technician    85711\n",
       "1        2   53      F       other    94043\n",
       "2        3   23      M      writer    32067\n",
       "3        4   24      M  technician    43537\n",
       "4        5   33      F       other    15213"
      ]
     },
     "execution_count": 3,
     "metadata": {},
     "output_type": "execute_result"
    }
   ],
   "source": [
    "user.head()"
   ]
  },
  {
   "cell_type": "markdown",
   "metadata": {
    "id": "o7EjUXdErZ5D"
   },
   "source": [
    "The user dataset has been loaded properly."
   ]
  },
  {
   "cell_type": "markdown",
   "metadata": {
    "id": "clO-JJrqDF7H"
   },
   "source": [
    "- *The user dataset contains demographic information about the users who have rated the movies*\n",
    "- *The column `gender` has values as M and F, where M represents Male users and F represents Female users*\n",
    "- *We can also observe that users are from different occupational backgrounds like 'technician', 'writer', etc.*\n",
    "- *The column `zip code` represents the area where the user is residing*"
   ]
  },
  {
   "cell_type": "markdown",
   "metadata": {
    "id": "svNFm8k4DHhd"
   },
   "source": [
    "#### **Understanding the shape of the user dataset**"
   ]
  },
  {
   "cell_type": "markdown",
   "metadata": {
    "id": "qk0OF1shFYhW"
   },
   "source": [
    "Let us now check the dimensions of the dataset by using the ***shape*** attribute. <br>\n",
    "\n",
    "The ***shape*** attribute will help us to get the number of rows and columns of the dataset.<br> \n",
    "\n",
    "**Knowing the dimensions of the dataframe will help us to understand the number of data points we are working with and proves to be beneficial especially when the dataset is a large one (consisting of a large number of rows and columns).**"
   ]
  },
  {
   "cell_type": "code",
   "execution_count": 4,
   "metadata": {
    "colab": {
     "base_uri": "https://localhost:8080/"
    },
    "id": "lnB0g2jhDRH5",
    "outputId": "7189ba1b-3698-4045-c0af-e557aa957bc7"
   },
   "outputs": [
    {
     "data": {
      "text/plain": [
       "(943, 5)"
      ]
     },
     "execution_count": 4,
     "metadata": {},
     "output_type": "execute_result"
    }
   ],
   "source": [
    "user.shape"
   ]
  },
  {
   "cell_type": "markdown",
   "metadata": {
    "id": "a9W5_kmVDcEA"
   },
   "source": [
    "- *There are 943 rows and 5 columns in the user dataset.*"
   ]
  },
  {
   "cell_type": "markdown",
   "metadata": {
    "id": "7pBcdZupDgI-"
   },
   "source": [
    "#### **Checking the data types of the columns for the user dataset**"
   ]
  },
  {
   "cell_type": "markdown",
   "metadata": {
    "id": "y6eZc390Fqa0"
   },
   "source": [
    "Now we are aware of the shape of the dataframe. Let us now have a look at the types of data that we are working with.<br>\n",
    "\n",
    "The ***info()*** function will help us to understand the data types of the columns.<br>\n",
    "\n",
    "**Understanding data types ensures that data is stored in the preferred format and the value of each property is as expected.**"
   ]
  },
  {
   "cell_type": "code",
   "execution_count": 5,
   "metadata": {
    "colab": {
     "base_uri": "https://localhost:8080/"
    },
    "id": "BH4-52PlDpct",
    "outputId": "4a653abd-508a-4bbc-d767-68345e74d370"
   },
   "outputs": [
    {
     "name": "stdout",
     "output_type": "stream",
     "text": [
      "<class 'pandas.core.frame.DataFrame'>\n",
      "RangeIndex: 943 entries, 0 to 942\n",
      "Data columns (total 5 columns):\n",
      " #   Column      Non-Null Count  Dtype \n",
      "---  ------      --------------  ----- \n",
      " 0   user id     943 non-null    int64 \n",
      " 1   age         943 non-null    int64 \n",
      " 2   gender      943 non-null    object\n",
      " 3   occupation  943 non-null    object\n",
      " 4   zip code    943 non-null    object\n",
      "dtypes: int64(2), object(3)\n",
      "memory usage: 37.0+ KB\n"
     ]
    }
   ],
   "source": [
    "user.info()"
   ]
  },
  {
   "cell_type": "markdown",
   "metadata": {
    "id": "rrzlu3PMD3ZU"
   },
   "source": [
    "- *We can see that the `gender`, `occupation` and `zip code` columns are of object type while the other columns are of integer type since they are containing numbers in them.*\n",
    "- *The data type of the `zip code` column is object which seems to be wrong and needs further investigation since this column seems to be containing integer values only, as seen from the first 5 rows of the dataframe.*"
   ]
  },
  {
   "cell_type": "markdown",
   "metadata": {
    "id": "49pLueS-FEX5"
   },
   "source": [
    "#### **Getting the statistical summary for the user dataset**"
   ]
  },
  {
   "cell_type": "markdown",
   "metadata": {
    "id": "QgrgTBGNGJ14"
   },
   "source": [
    "We can now have a look at the statistical summary of the dataset.<br>\n",
    "\n",
    "The **describe()** function will help us in finding out the statistical summary.<br>\n",
    "\n",
    "**The statistical summary will give us a overview of the numerical columns of the data and display various features like the minimum, maximum, mean, standard deviation, etc. of the columns. This will help us to understand the distribution of the values present in the numerical columns.**"
   ]
  },
  {
   "cell_type": "code",
   "execution_count": 6,
   "metadata": {
    "colab": {
     "base_uri": "https://localhost:8080/",
     "height": 300
    },
    "id": "YUu3ah3SFNzZ",
    "outputId": "3bdf2d71-179a-4eeb-b46c-ab2193b35cea"
   },
   "outputs": [
    {
     "data": {
      "text/html": [
       "<div>\n",
       "<style scoped>\n",
       "    .dataframe tbody tr th:only-of-type {\n",
       "        vertical-align: middle;\n",
       "    }\n",
       "\n",
       "    .dataframe tbody tr th {\n",
       "        vertical-align: top;\n",
       "    }\n",
       "\n",
       "    .dataframe thead th {\n",
       "        text-align: right;\n",
       "    }\n",
       "</style>\n",
       "<table border=\"1\" class=\"dataframe\">\n",
       "  <thead>\n",
       "    <tr style=\"text-align: right;\">\n",
       "      <th></th>\n",
       "      <th>user id</th>\n",
       "      <th>age</th>\n",
       "    </tr>\n",
       "  </thead>\n",
       "  <tbody>\n",
       "    <tr>\n",
       "      <th>count</th>\n",
       "      <td>943.000000</td>\n",
       "      <td>943.000000</td>\n",
       "    </tr>\n",
       "    <tr>\n",
       "      <th>mean</th>\n",
       "      <td>472.000000</td>\n",
       "      <td>34.051962</td>\n",
       "    </tr>\n",
       "    <tr>\n",
       "      <th>std</th>\n",
       "      <td>272.364951</td>\n",
       "      <td>12.192740</td>\n",
       "    </tr>\n",
       "    <tr>\n",
       "      <th>min</th>\n",
       "      <td>1.000000</td>\n",
       "      <td>7.000000</td>\n",
       "    </tr>\n",
       "    <tr>\n",
       "      <th>25%</th>\n",
       "      <td>236.500000</td>\n",
       "      <td>25.000000</td>\n",
       "    </tr>\n",
       "    <tr>\n",
       "      <th>50%</th>\n",
       "      <td>472.000000</td>\n",
       "      <td>31.000000</td>\n",
       "    </tr>\n",
       "    <tr>\n",
       "      <th>75%</th>\n",
       "      <td>707.500000</td>\n",
       "      <td>43.000000</td>\n",
       "    </tr>\n",
       "    <tr>\n",
       "      <th>max</th>\n",
       "      <td>943.000000</td>\n",
       "      <td>73.000000</td>\n",
       "    </tr>\n",
       "  </tbody>\n",
       "</table>\n",
       "</div>"
      ],
      "text/plain": [
       "          user id         age\n",
       "count  943.000000  943.000000\n",
       "mean   472.000000   34.051962\n",
       "std    272.364951   12.192740\n",
       "min      1.000000    7.000000\n",
       "25%    236.500000   25.000000\n",
       "50%    472.000000   31.000000\n",
       "75%    707.500000   43.000000\n",
       "max    943.000000   73.000000"
      ]
     },
     "execution_count": 6,
     "metadata": {},
     "output_type": "execute_result"
    }
   ],
   "source": [
    "user.describe()"
   ]
  },
  {
   "cell_type": "markdown",
   "metadata": {
    "id": "nZ8GcdPsFcml"
   },
   "source": [
    "- *We can see from the `age` column that the average age of users who have rated the movies is 34 years* \n",
    "- *The age of users ranges from 7 years (min or minimum) to 73 years (max or maximum)*\n",
    "- *Since user id is an unique identifier of the users who have rated the movies, interpreting its summary statistics won't yield meaningful insights.*"
   ]
  },
  {
   "cell_type": "markdown",
   "metadata": {
    "id": "8e_-PcD1CARE"
   },
   "source": [
    "Now we have somewhat got a basic idea of the user dataset. Let us now carry out similar operations on the other two datasets and try to find out relevant information from them as well."
   ]
  },
  {
   "cell_type": "markdown",
   "metadata": {
    "id": "pidPJJlVu08m"
   },
   "source": [
    "#### **Movie Dataset**"
   ]
  },
  {
   "cell_type": "markdown",
   "metadata": {
    "id": "WM97ISqrvFSo"
   },
   "source": [
    "#### **Displaying the first 5 rows of the movie dataset**"
   ]
  },
  {
   "cell_type": "code",
   "execution_count": 7,
   "metadata": {
    "colab": {
     "base_uri": "https://localhost:8080/",
     "height": 374
    },
    "id": "QmkROCFivGmz",
    "outputId": "5ec78238-936b-450b-f78a-e92e3cc7d0d7"
   },
   "outputs": [
    {
     "data": {
      "text/html": [
       "<div>\n",
       "<style scoped>\n",
       "    .dataframe tbody tr th:only-of-type {\n",
       "        vertical-align: middle;\n",
       "    }\n",
       "\n",
       "    .dataframe tbody tr th {\n",
       "        vertical-align: top;\n",
       "    }\n",
       "\n",
       "    .dataframe thead th {\n",
       "        text-align: right;\n",
       "    }\n",
       "</style>\n",
       "<table border=\"1\" class=\"dataframe\">\n",
       "  <thead>\n",
       "    <tr style=\"text-align: right;\">\n",
       "      <th></th>\n",
       "      <th>movie id</th>\n",
       "      <th>movie title</th>\n",
       "      <th>release date</th>\n",
       "      <th>Action</th>\n",
       "      <th>Adventure</th>\n",
       "      <th>Animation</th>\n",
       "      <th>Childrens</th>\n",
       "      <th>Comedy</th>\n",
       "      <th>Crime</th>\n",
       "      <th>Documentary</th>\n",
       "      <th>...</th>\n",
       "      <th>Fantasy</th>\n",
       "      <th>Film-Noir</th>\n",
       "      <th>Horror</th>\n",
       "      <th>Musical</th>\n",
       "      <th>Mystery</th>\n",
       "      <th>Romance</th>\n",
       "      <th>Sci-Fi</th>\n",
       "      <th>Thriller</th>\n",
       "      <th>War</th>\n",
       "      <th>Western</th>\n",
       "    </tr>\n",
       "  </thead>\n",
       "  <tbody>\n",
       "    <tr>\n",
       "      <th>0</th>\n",
       "      <td>1</td>\n",
       "      <td>Toy Story</td>\n",
       "      <td>1995-01-01</td>\n",
       "      <td>0</td>\n",
       "      <td>0</td>\n",
       "      <td>1</td>\n",
       "      <td>1</td>\n",
       "      <td>1</td>\n",
       "      <td>0</td>\n",
       "      <td>0</td>\n",
       "      <td>...</td>\n",
       "      <td>0</td>\n",
       "      <td>0</td>\n",
       "      <td>0</td>\n",
       "      <td>0</td>\n",
       "      <td>0</td>\n",
       "      <td>0</td>\n",
       "      <td>0</td>\n",
       "      <td>0</td>\n",
       "      <td>0</td>\n",
       "      <td>0</td>\n",
       "    </tr>\n",
       "    <tr>\n",
       "      <th>1</th>\n",
       "      <td>2</td>\n",
       "      <td>GoldenEye</td>\n",
       "      <td>1995-01-01</td>\n",
       "      <td>1</td>\n",
       "      <td>1</td>\n",
       "      <td>0</td>\n",
       "      <td>0</td>\n",
       "      <td>0</td>\n",
       "      <td>0</td>\n",
       "      <td>0</td>\n",
       "      <td>...</td>\n",
       "      <td>0</td>\n",
       "      <td>0</td>\n",
       "      <td>0</td>\n",
       "      <td>0</td>\n",
       "      <td>0</td>\n",
       "      <td>0</td>\n",
       "      <td>0</td>\n",
       "      <td>1</td>\n",
       "      <td>0</td>\n",
       "      <td>0</td>\n",
       "    </tr>\n",
       "    <tr>\n",
       "      <th>2</th>\n",
       "      <td>3</td>\n",
       "      <td>Four Rooms</td>\n",
       "      <td>1995-01-01</td>\n",
       "      <td>0</td>\n",
       "      <td>0</td>\n",
       "      <td>0</td>\n",
       "      <td>0</td>\n",
       "      <td>0</td>\n",
       "      <td>0</td>\n",
       "      <td>0</td>\n",
       "      <td>...</td>\n",
       "      <td>0</td>\n",
       "      <td>0</td>\n",
       "      <td>0</td>\n",
       "      <td>0</td>\n",
       "      <td>0</td>\n",
       "      <td>0</td>\n",
       "      <td>0</td>\n",
       "      <td>1</td>\n",
       "      <td>0</td>\n",
       "      <td>0</td>\n",
       "    </tr>\n",
       "    <tr>\n",
       "      <th>3</th>\n",
       "      <td>4</td>\n",
       "      <td>Get Shorty</td>\n",
       "      <td>1995-01-01</td>\n",
       "      <td>1</td>\n",
       "      <td>0</td>\n",
       "      <td>0</td>\n",
       "      <td>0</td>\n",
       "      <td>1</td>\n",
       "      <td>0</td>\n",
       "      <td>0</td>\n",
       "      <td>...</td>\n",
       "      <td>0</td>\n",
       "      <td>0</td>\n",
       "      <td>0</td>\n",
       "      <td>0</td>\n",
       "      <td>0</td>\n",
       "      <td>0</td>\n",
       "      <td>0</td>\n",
       "      <td>0</td>\n",
       "      <td>0</td>\n",
       "      <td>0</td>\n",
       "    </tr>\n",
       "    <tr>\n",
       "      <th>4</th>\n",
       "      <td>5</td>\n",
       "      <td>Copycat</td>\n",
       "      <td>1995-01-01</td>\n",
       "      <td>0</td>\n",
       "      <td>0</td>\n",
       "      <td>0</td>\n",
       "      <td>0</td>\n",
       "      <td>0</td>\n",
       "      <td>1</td>\n",
       "      <td>0</td>\n",
       "      <td>...</td>\n",
       "      <td>0</td>\n",
       "      <td>0</td>\n",
       "      <td>0</td>\n",
       "      <td>0</td>\n",
       "      <td>0</td>\n",
       "      <td>0</td>\n",
       "      <td>0</td>\n",
       "      <td>1</td>\n",
       "      <td>0</td>\n",
       "      <td>0</td>\n",
       "    </tr>\n",
       "  </tbody>\n",
       "</table>\n",
       "<p>5 rows × 21 columns</p>\n",
       "</div>"
      ],
      "text/plain": [
       "   movie id  movie title release date  Action  Adventure  Animation  \\\n",
       "0         1   Toy Story    1995-01-01       0          0          1   \n",
       "1         2   GoldenEye    1995-01-01       1          1          0   \n",
       "2         3  Four Rooms    1995-01-01       0          0          0   \n",
       "3         4  Get Shorty    1995-01-01       1          0          0   \n",
       "4         5     Copycat    1995-01-01       0          0          0   \n",
       "\n",
       "   Childrens  Comedy  Crime  Documentary  ...  Fantasy  Film-Noir  Horror  \\\n",
       "0          1       1      0            0  ...        0          0       0   \n",
       "1          0       0      0            0  ...        0          0       0   \n",
       "2          0       0      0            0  ...        0          0       0   \n",
       "3          0       1      0            0  ...        0          0       0   \n",
       "4          0       0      1            0  ...        0          0       0   \n",
       "\n",
       "   Musical  Mystery  Romance  Sci-Fi  Thriller  War  Western  \n",
       "0        0        0        0       0         0    0        0  \n",
       "1        0        0        0       0         1    0        0  \n",
       "2        0        0        0       0         1    0        0  \n",
       "3        0        0        0       0         0    0        0  \n",
       "4        0        0        0       0         1    0        0  \n",
       "\n",
       "[5 rows x 21 columns]"
      ]
     },
     "execution_count": 7,
     "metadata": {},
     "output_type": "execute_result"
    }
   ],
   "source": [
    "movie.head()"
   ]
  },
  {
   "cell_type": "markdown",
   "metadata": {
    "id": "rsxI0iqyr-9P"
   },
   "source": [
    "- *As we can see the 'movie' dataset contains information related to the movies and their genres. While `movie id`, `movie title`, and `release date` are information related to the movies, the rest of the columns are specifically the genres of the movies.*<br> \n",
    "- *The columns associated to the genres of the movies are having values of 0s and 1s. The value '1' means that a particular movie belongs to that genre while the value '0' represents that the movie is not a part of that genre.*\n",
    "- *We can also see that a movie can have multiple genres as there are more than one column that are having value as '1' for a particular movie in the columns associated with genres.*<br> \n",
    "- *For example, the movie named 'Toy Story' is having genres as 'Animation', 'Childrens', and 'Comedy'.* "
   ]
  },
  {
   "cell_type": "markdown",
   "metadata": {
    "id": "4QoUnrVuwuwW"
   },
   "source": [
    "#### **Understanding the shape of the movie dataset**"
   ]
  },
  {
   "cell_type": "code",
   "execution_count": 8,
   "metadata": {
    "colab": {
     "base_uri": "https://localhost:8080/"
    },
    "id": "ZY2ARvIlww4v",
    "outputId": "553faddc-a519-4655-d63d-8d21b7d5b9da"
   },
   "outputs": [
    {
     "data": {
      "text/plain": [
       "(1680, 21)"
      ]
     },
     "execution_count": 8,
     "metadata": {},
     "output_type": "execute_result"
    }
   ],
   "source": [
    "movie.shape"
   ]
  },
  {
   "cell_type": "markdown",
   "metadata": {
    "id": "WeSUQjhTw3Lt"
   },
   "source": [
    "- *There are 1680 rows and 21 columns in the movie dataset.*"
   ]
  },
  {
   "cell_type": "markdown",
   "metadata": {
    "id": "ceQd3igI0FSE"
   },
   "source": [
    "#### **Checking the data types of the columns for the movie dataset**"
   ]
  },
  {
   "cell_type": "code",
   "execution_count": 9,
   "metadata": {
    "colab": {
     "base_uri": "https://localhost:8080/"
    },
    "id": "GVwkhsgh0fsC",
    "outputId": "53cd3908-8aee-402f-d7dd-8094c276766e",
    "scrolled": true
   },
   "outputs": [
    {
     "name": "stdout",
     "output_type": "stream",
     "text": [
      "<class 'pandas.core.frame.DataFrame'>\n",
      "RangeIndex: 1680 entries, 0 to 1679\n",
      "Data columns (total 21 columns):\n",
      " #   Column        Non-Null Count  Dtype         \n",
      "---  ------        --------------  -----         \n",
      " 0   movie id      1680 non-null   int64         \n",
      " 1   movie title   1680 non-null   object        \n",
      " 2   release date  1680 non-null   datetime64[ns]\n",
      " 3   Action        1680 non-null   int64         \n",
      " 4   Adventure     1680 non-null   int64         \n",
      " 5   Animation     1680 non-null   int64         \n",
      " 6   Childrens     1680 non-null   int64         \n",
      " 7   Comedy        1680 non-null   int64         \n",
      " 8   Crime         1680 non-null   int64         \n",
      " 9   Documentary   1680 non-null   int64         \n",
      " 10  Drama         1680 non-null   int64         \n",
      " 11  Fantasy       1680 non-null   int64         \n",
      " 12  Film-Noir     1680 non-null   int64         \n",
      " 13  Horror        1680 non-null   int64         \n",
      " 14  Musical       1680 non-null   int64         \n",
      " 15  Mystery       1680 non-null   int64         \n",
      " 16  Romance       1680 non-null   int64         \n",
      " 17  Sci-Fi        1680 non-null   int64         \n",
      " 18  Thriller      1680 non-null   int64         \n",
      " 19  War           1680 non-null   int64         \n",
      " 20  Western       1680 non-null   int64         \n",
      "dtypes: datetime64[ns](1), int64(19), object(1)\n",
      "memory usage: 275.8+ KB\n"
     ]
    }
   ],
   "source": [
    "movie.info()"
   ]
  },
  {
   "cell_type": "markdown",
   "metadata": {
    "id": "O-QZurHd0oK7"
   },
   "source": [
    "- *We can see that the `movie title` and `release date` columns are of object type since these columns are having some text in them.* \n",
    "- *All the other columns are of integer type since they are containing numbers in them.*"
   ]
  },
  {
   "cell_type": "markdown",
   "metadata": {
    "id": "sN61qb7-4KqB"
   },
   "source": [
    "#### **Getting the statistical summary for the movie dataset**"
   ]
  },
  {
   "cell_type": "code",
   "execution_count": 10,
   "metadata": {
    "colab": {
     "base_uri": "https://localhost:8080/",
     "height": 364
    },
    "id": "eToQDsEf4ZmW",
    "outputId": "6f57d4a5-293a-41f7-faf4-f994f4b71bbf"
   },
   "outputs": [
    {
     "data": {
      "text/html": [
       "<div>\n",
       "<style scoped>\n",
       "    .dataframe tbody tr th:only-of-type {\n",
       "        vertical-align: middle;\n",
       "    }\n",
       "\n",
       "    .dataframe tbody tr th {\n",
       "        vertical-align: top;\n",
       "    }\n",
       "\n",
       "    .dataframe thead th {\n",
       "        text-align: right;\n",
       "    }\n",
       "</style>\n",
       "<table border=\"1\" class=\"dataframe\">\n",
       "  <thead>\n",
       "    <tr style=\"text-align: right;\">\n",
       "      <th></th>\n",
       "      <th>movie id</th>\n",
       "      <th>release date</th>\n",
       "      <th>Action</th>\n",
       "      <th>Adventure</th>\n",
       "      <th>Animation</th>\n",
       "      <th>Childrens</th>\n",
       "      <th>Comedy</th>\n",
       "      <th>Crime</th>\n",
       "      <th>Documentary</th>\n",
       "      <th>Drama</th>\n",
       "      <th>Fantasy</th>\n",
       "      <th>Film-Noir</th>\n",
       "      <th>Horror</th>\n",
       "      <th>Musical</th>\n",
       "      <th>Mystery</th>\n",
       "      <th>Romance</th>\n",
       "      <th>Sci-Fi</th>\n",
       "      <th>Thriller</th>\n",
       "      <th>War</th>\n",
       "      <th>Western</th>\n",
       "    </tr>\n",
       "  </thead>\n",
       "  <tbody>\n",
       "    <tr>\n",
       "      <th>count</th>\n",
       "      <td>1680.000000</td>\n",
       "      <td>1680</td>\n",
       "      <td>1680.000000</td>\n",
       "      <td>1680.000000</td>\n",
       "      <td>1680.000000</td>\n",
       "      <td>1680.000000</td>\n",
       "      <td>1680.000000</td>\n",
       "      <td>1680.000000</td>\n",
       "      <td>1680.000000</td>\n",
       "      <td>1680.000000</td>\n",
       "      <td>1680.000000</td>\n",
       "      <td>1680.000000</td>\n",
       "      <td>1680.000000</td>\n",
       "      <td>1680.000000</td>\n",
       "      <td>1680.000000</td>\n",
       "      <td>1680.000000</td>\n",
       "      <td>1680.000000</td>\n",
       "      <td>1680.000000</td>\n",
       "      <td>1680.000000</td>\n",
       "      <td>1680.000000</td>\n",
       "    </tr>\n",
       "    <tr>\n",
       "      <th>mean</th>\n",
       "      <td>841.525595</td>\n",
       "      <td>1994-01-27 20:51:25.714285696</td>\n",
       "      <td>0.149405</td>\n",
       "      <td>0.080357</td>\n",
       "      <td>0.025000</td>\n",
       "      <td>0.072619</td>\n",
       "      <td>0.300595</td>\n",
       "      <td>0.064881</td>\n",
       "      <td>0.029762</td>\n",
       "      <td>0.431548</td>\n",
       "      <td>0.013095</td>\n",
       "      <td>0.014286</td>\n",
       "      <td>0.054762</td>\n",
       "      <td>0.033333</td>\n",
       "      <td>0.036310</td>\n",
       "      <td>0.147024</td>\n",
       "      <td>0.060119</td>\n",
       "      <td>0.149405</td>\n",
       "      <td>0.042262</td>\n",
       "      <td>0.016071</td>\n",
       "    </tr>\n",
       "    <tr>\n",
       "      <th>min</th>\n",
       "      <td>1.000000</td>\n",
       "      <td>1950-01-01 00:00:00</td>\n",
       "      <td>0.000000</td>\n",
       "      <td>0.000000</td>\n",
       "      <td>0.000000</td>\n",
       "      <td>0.000000</td>\n",
       "      <td>0.000000</td>\n",
       "      <td>0.000000</td>\n",
       "      <td>0.000000</td>\n",
       "      <td>0.000000</td>\n",
       "      <td>0.000000</td>\n",
       "      <td>0.000000</td>\n",
       "      <td>0.000000</td>\n",
       "      <td>0.000000</td>\n",
       "      <td>0.000000</td>\n",
       "      <td>0.000000</td>\n",
       "      <td>0.000000</td>\n",
       "      <td>0.000000</td>\n",
       "      <td>0.000000</td>\n",
       "      <td>0.000000</td>\n",
       "    </tr>\n",
       "    <tr>\n",
       "      <th>25%</th>\n",
       "      <td>421.750000</td>\n",
       "      <td>1993-01-01 00:00:00</td>\n",
       "      <td>0.000000</td>\n",
       "      <td>0.000000</td>\n",
       "      <td>0.000000</td>\n",
       "      <td>0.000000</td>\n",
       "      <td>0.000000</td>\n",
       "      <td>0.000000</td>\n",
       "      <td>0.000000</td>\n",
       "      <td>0.000000</td>\n",
       "      <td>0.000000</td>\n",
       "      <td>0.000000</td>\n",
       "      <td>0.000000</td>\n",
       "      <td>0.000000</td>\n",
       "      <td>0.000000</td>\n",
       "      <td>0.000000</td>\n",
       "      <td>0.000000</td>\n",
       "      <td>0.000000</td>\n",
       "      <td>0.000000</td>\n",
       "      <td>0.000000</td>\n",
       "    </tr>\n",
       "    <tr>\n",
       "      <th>50%</th>\n",
       "      <td>841.500000</td>\n",
       "      <td>1995-01-01 00:00:00</td>\n",
       "      <td>0.000000</td>\n",
       "      <td>0.000000</td>\n",
       "      <td>0.000000</td>\n",
       "      <td>0.000000</td>\n",
       "      <td>0.000000</td>\n",
       "      <td>0.000000</td>\n",
       "      <td>0.000000</td>\n",
       "      <td>0.000000</td>\n",
       "      <td>0.000000</td>\n",
       "      <td>0.000000</td>\n",
       "      <td>0.000000</td>\n",
       "      <td>0.000000</td>\n",
       "      <td>0.000000</td>\n",
       "      <td>0.000000</td>\n",
       "      <td>0.000000</td>\n",
       "      <td>0.000000</td>\n",
       "      <td>0.000000</td>\n",
       "      <td>0.000000</td>\n",
       "    </tr>\n",
       "    <tr>\n",
       "      <th>75%</th>\n",
       "      <td>1261.250000</td>\n",
       "      <td>1997-01-01 00:00:00</td>\n",
       "      <td>0.000000</td>\n",
       "      <td>0.000000</td>\n",
       "      <td>0.000000</td>\n",
       "      <td>0.000000</td>\n",
       "      <td>1.000000</td>\n",
       "      <td>0.000000</td>\n",
       "      <td>0.000000</td>\n",
       "      <td>1.000000</td>\n",
       "      <td>0.000000</td>\n",
       "      <td>0.000000</td>\n",
       "      <td>0.000000</td>\n",
       "      <td>0.000000</td>\n",
       "      <td>0.000000</td>\n",
       "      <td>0.000000</td>\n",
       "      <td>0.000000</td>\n",
       "      <td>0.000000</td>\n",
       "      <td>0.000000</td>\n",
       "      <td>0.000000</td>\n",
       "    </tr>\n",
       "    <tr>\n",
       "      <th>max</th>\n",
       "      <td>1682.000000</td>\n",
       "      <td>2049-01-01 00:00:00</td>\n",
       "      <td>1.000000</td>\n",
       "      <td>1.000000</td>\n",
       "      <td>1.000000</td>\n",
       "      <td>1.000000</td>\n",
       "      <td>1.000000</td>\n",
       "      <td>1.000000</td>\n",
       "      <td>1.000000</td>\n",
       "      <td>1.000000</td>\n",
       "      <td>1.000000</td>\n",
       "      <td>1.000000</td>\n",
       "      <td>1.000000</td>\n",
       "      <td>1.000000</td>\n",
       "      <td>1.000000</td>\n",
       "      <td>1.000000</td>\n",
       "      <td>1.000000</td>\n",
       "      <td>1.000000</td>\n",
       "      <td>1.000000</td>\n",
       "      <td>1.000000</td>\n",
       "    </tr>\n",
       "    <tr>\n",
       "      <th>std</th>\n",
       "      <td>485.609591</td>\n",
       "      <td>NaN</td>\n",
       "      <td>0.356593</td>\n",
       "      <td>0.271926</td>\n",
       "      <td>0.156171</td>\n",
       "      <td>0.259587</td>\n",
       "      <td>0.458653</td>\n",
       "      <td>0.246389</td>\n",
       "      <td>0.169980</td>\n",
       "      <td>0.495440</td>\n",
       "      <td>0.113717</td>\n",
       "      <td>0.118701</td>\n",
       "      <td>0.227583</td>\n",
       "      <td>0.179559</td>\n",
       "      <td>0.187115</td>\n",
       "      <td>0.354235</td>\n",
       "      <td>0.237778</td>\n",
       "      <td>0.356593</td>\n",
       "      <td>0.201246</td>\n",
       "      <td>0.125788</td>\n",
       "    </tr>\n",
       "  </tbody>\n",
       "</table>\n",
       "</div>"
      ],
      "text/plain": [
       "          movie id                   release date       Action    Adventure  \\\n",
       "count  1680.000000                           1680  1680.000000  1680.000000   \n",
       "mean    841.525595  1994-01-27 20:51:25.714285696     0.149405     0.080357   \n",
       "min       1.000000            1950-01-01 00:00:00     0.000000     0.000000   \n",
       "25%     421.750000            1993-01-01 00:00:00     0.000000     0.000000   \n",
       "50%     841.500000            1995-01-01 00:00:00     0.000000     0.000000   \n",
       "75%    1261.250000            1997-01-01 00:00:00     0.000000     0.000000   \n",
       "max    1682.000000            2049-01-01 00:00:00     1.000000     1.000000   \n",
       "std     485.609591                            NaN     0.356593     0.271926   \n",
       "\n",
       "         Animation    Childrens       Comedy        Crime  Documentary  \\\n",
       "count  1680.000000  1680.000000  1680.000000  1680.000000  1680.000000   \n",
       "mean      0.025000     0.072619     0.300595     0.064881     0.029762   \n",
       "min       0.000000     0.000000     0.000000     0.000000     0.000000   \n",
       "25%       0.000000     0.000000     0.000000     0.000000     0.000000   \n",
       "50%       0.000000     0.000000     0.000000     0.000000     0.000000   \n",
       "75%       0.000000     0.000000     1.000000     0.000000     0.000000   \n",
       "max       1.000000     1.000000     1.000000     1.000000     1.000000   \n",
       "std       0.156171     0.259587     0.458653     0.246389     0.169980   \n",
       "\n",
       "             Drama      Fantasy    Film-Noir       Horror      Musical  \\\n",
       "count  1680.000000  1680.000000  1680.000000  1680.000000  1680.000000   \n",
       "mean      0.431548     0.013095     0.014286     0.054762     0.033333   \n",
       "min       0.000000     0.000000     0.000000     0.000000     0.000000   \n",
       "25%       0.000000     0.000000     0.000000     0.000000     0.000000   \n",
       "50%       0.000000     0.000000     0.000000     0.000000     0.000000   \n",
       "75%       1.000000     0.000000     0.000000     0.000000     0.000000   \n",
       "max       1.000000     1.000000     1.000000     1.000000     1.000000   \n",
       "std       0.495440     0.113717     0.118701     0.227583     0.179559   \n",
       "\n",
       "           Mystery      Romance       Sci-Fi     Thriller          War  \\\n",
       "count  1680.000000  1680.000000  1680.000000  1680.000000  1680.000000   \n",
       "mean      0.036310     0.147024     0.060119     0.149405     0.042262   \n",
       "min       0.000000     0.000000     0.000000     0.000000     0.000000   \n",
       "25%       0.000000     0.000000     0.000000     0.000000     0.000000   \n",
       "50%       0.000000     0.000000     0.000000     0.000000     0.000000   \n",
       "75%       0.000000     0.000000     0.000000     0.000000     0.000000   \n",
       "max       1.000000     1.000000     1.000000     1.000000     1.000000   \n",
       "std       0.187115     0.354235     0.237778     0.356593     0.201246   \n",
       "\n",
       "           Western  \n",
       "count  1680.000000  \n",
       "mean      0.016071  \n",
       "min       0.000000  \n",
       "25%       0.000000  \n",
       "50%       0.000000  \n",
       "75%       0.000000  \n",
       "max       1.000000  \n",
       "std       0.125788  "
      ]
     },
     "execution_count": 10,
     "metadata": {},
     "output_type": "execute_result"
    }
   ],
   "source": [
    "movie.describe()"
   ]
  },
  {
   "cell_type": "markdown",
   "metadata": {
    "id": "w18tb-iVAiAa"
   },
   "source": [
    "- *The statistical summary of the `movie_id` column will not yield meaningful insights as it is a unique identifier of each of the movies. The statistical summary of the columns related to genres is also not much helpful since these columns consists of only 0s and 1s values.*"
   ]
  },
  {
   "cell_type": "markdown",
   "metadata": {
    "id": "G-qMEgC3GxFn"
   },
   "source": [
    "We have now explored the movie dataset as well. Let us now finally see the ratings dataframe"
   ]
  },
  {
   "cell_type": "markdown",
   "metadata": {
    "id": "pbKtKdvwGuuN"
   },
   "source": [
    "#### **Ratings**"
   ]
  },
  {
   "cell_type": "markdown",
   "metadata": {
    "id": "vP7QduQ0Guz3"
   },
   "source": [
    "#### **Displaying the first 5 rows of the ratings dataset**"
   ]
  },
  {
   "cell_type": "code",
   "execution_count": 11,
   "metadata": {
    "colab": {
     "base_uri": "https://localhost:8080/",
     "height": 206
    },
    "id": "Kya0ShCfHL9E",
    "outputId": "d0cabef7-84fe-429f-a51e-9e2a3c30e85e"
   },
   "outputs": [
    {
     "data": {
      "text/html": [
       "<div>\n",
       "<style scoped>\n",
       "    .dataframe tbody tr th:only-of-type {\n",
       "        vertical-align: middle;\n",
       "    }\n",
       "\n",
       "    .dataframe tbody tr th {\n",
       "        vertical-align: top;\n",
       "    }\n",
       "\n",
       "    .dataframe thead th {\n",
       "        text-align: right;\n",
       "    }\n",
       "</style>\n",
       "<table border=\"1\" class=\"dataframe\">\n",
       "  <thead>\n",
       "    <tr style=\"text-align: right;\">\n",
       "      <th></th>\n",
       "      <th>user id</th>\n",
       "      <th>movie id</th>\n",
       "      <th>rating</th>\n",
       "      <th>timestamp</th>\n",
       "    </tr>\n",
       "  </thead>\n",
       "  <tbody>\n",
       "    <tr>\n",
       "      <th>0</th>\n",
       "      <td>196</td>\n",
       "      <td>242</td>\n",
       "      <td>3</td>\n",
       "      <td>881250949</td>\n",
       "    </tr>\n",
       "    <tr>\n",
       "      <th>1</th>\n",
       "      <td>186</td>\n",
       "      <td>302</td>\n",
       "      <td>3</td>\n",
       "      <td>891717742</td>\n",
       "    </tr>\n",
       "    <tr>\n",
       "      <th>2</th>\n",
       "      <td>22</td>\n",
       "      <td>377</td>\n",
       "      <td>1</td>\n",
       "      <td>878887116</td>\n",
       "    </tr>\n",
       "    <tr>\n",
       "      <th>3</th>\n",
       "      <td>244</td>\n",
       "      <td>51</td>\n",
       "      <td>2</td>\n",
       "      <td>880606923</td>\n",
       "    </tr>\n",
       "    <tr>\n",
       "      <th>4</th>\n",
       "      <td>166</td>\n",
       "      <td>346</td>\n",
       "      <td>1</td>\n",
       "      <td>886397596</td>\n",
       "    </tr>\n",
       "  </tbody>\n",
       "</table>\n",
       "</div>"
      ],
      "text/plain": [
       "   user id  movie id  rating  timestamp\n",
       "0      196       242       3  881250949\n",
       "1      186       302       3  891717742\n",
       "2       22       377       1  878887116\n",
       "3      244        51       2  880606923\n",
       "4      166       346       1  886397596"
      ]
     },
     "execution_count": 11,
     "metadata": {},
     "output_type": "execute_result"
    }
   ],
   "source": [
    "ratings.head()"
   ]
  },
  {
   "cell_type": "markdown",
   "metadata": {
    "id": "ERqEea8Rrhv3"
   },
   "source": [
    "The ratings dataset has also been imported properly without any errors"
   ]
  },
  {
   "cell_type": "markdown",
   "metadata": {
    "id": "SuzxSoT2HWF9"
   },
   "source": [
    "- *The ratings dataframe contains information about the ratings given by the users to a particular movie.*"
   ]
  },
  {
   "cell_type": "markdown",
   "metadata": {
    "id": "rQaCa0jPHXdn"
   },
   "source": [
    "#### **Understanding the shape of the ratings dataset**"
   ]
  },
  {
   "cell_type": "code",
   "execution_count": 12,
   "metadata": {
    "colab": {
     "base_uri": "https://localhost:8080/"
    },
    "id": "WoTppoPIHjp-",
    "outputId": "da5a312a-a9cc-4bd2-a1e9-af87f6212502"
   },
   "outputs": [
    {
     "data": {
      "text/plain": [
       "(100000, 4)"
      ]
     },
     "execution_count": 12,
     "metadata": {},
     "output_type": "execute_result"
    }
   ],
   "source": [
    "ratings.shape"
   ]
  },
  {
   "cell_type": "markdown",
   "metadata": {
    "id": "9p5sXEsvHtYl"
   },
   "source": [
    "- *There are 100000 rows and 4 columns in the ratings dataset. This is quite a large dataset as compared to the previous two dataframes.*"
   ]
  },
  {
   "cell_type": "markdown",
   "metadata": {
    "id": "T556gZ1kIBmj"
   },
   "source": [
    "#### **Checking the data types of the columns for the ratings dataset**"
   ]
  },
  {
   "cell_type": "code",
   "execution_count": 13,
   "metadata": {
    "colab": {
     "base_uri": "https://localhost:8080/"
    },
    "id": "4QMNRqnNIJi0",
    "outputId": "b32e21e5-587d-4712-ce21-3ab487432b3c"
   },
   "outputs": [
    {
     "name": "stdout",
     "output_type": "stream",
     "text": [
      "<class 'pandas.core.frame.DataFrame'>\n",
      "RangeIndex: 100000 entries, 0 to 99999\n",
      "Data columns (total 4 columns):\n",
      " #   Column     Non-Null Count   Dtype\n",
      "---  ------     --------------   -----\n",
      " 0   user id    100000 non-null  int64\n",
      " 1   movie id   100000 non-null  int64\n",
      " 2   rating     100000 non-null  int64\n",
      " 3   timestamp  100000 non-null  int64\n",
      "dtypes: int64(4)\n",
      "memory usage: 3.1 MB\n"
     ]
    }
   ],
   "source": [
    "ratings.info()"
   ]
  },
  {
   "cell_type": "markdown",
   "metadata": {
    "id": "2R_5mKbUIWHz"
   },
   "source": [
    "- *Here all the columns are of integer data type since they contain numbers in them.*"
   ]
  },
  {
   "cell_type": "markdown",
   "metadata": {
    "id": "DZAfXU0SIk6e"
   },
   "source": [
    "#### **Getting the statistical summary for the ratings dataset**"
   ]
  },
  {
   "cell_type": "code",
   "execution_count": 14,
   "metadata": {
    "colab": {
     "base_uri": "https://localhost:8080/",
     "height": 300
    },
    "id": "EfzKTfhlItpB",
    "outputId": "e6b368f7-94ac-4f28-b59c-13e637b97ce5"
   },
   "outputs": [
    {
     "data": {
      "text/html": [
       "<div>\n",
       "<style scoped>\n",
       "    .dataframe tbody tr th:only-of-type {\n",
       "        vertical-align: middle;\n",
       "    }\n",
       "\n",
       "    .dataframe tbody tr th {\n",
       "        vertical-align: top;\n",
       "    }\n",
       "\n",
       "    .dataframe thead th {\n",
       "        text-align: right;\n",
       "    }\n",
       "</style>\n",
       "<table border=\"1\" class=\"dataframe\">\n",
       "  <thead>\n",
       "    <tr style=\"text-align: right;\">\n",
       "      <th></th>\n",
       "      <th>user id</th>\n",
       "      <th>movie id</th>\n",
       "      <th>rating</th>\n",
       "      <th>timestamp</th>\n",
       "    </tr>\n",
       "  </thead>\n",
       "  <tbody>\n",
       "    <tr>\n",
       "      <th>count</th>\n",
       "      <td>100000.00000</td>\n",
       "      <td>100000.000000</td>\n",
       "      <td>100000.000000</td>\n",
       "      <td>1.000000e+05</td>\n",
       "    </tr>\n",
       "    <tr>\n",
       "      <th>mean</th>\n",
       "      <td>462.48475</td>\n",
       "      <td>425.530130</td>\n",
       "      <td>3.529860</td>\n",
       "      <td>8.835289e+08</td>\n",
       "    </tr>\n",
       "    <tr>\n",
       "      <th>std</th>\n",
       "      <td>266.61442</td>\n",
       "      <td>330.798356</td>\n",
       "      <td>1.125674</td>\n",
       "      <td>5.343856e+06</td>\n",
       "    </tr>\n",
       "    <tr>\n",
       "      <th>min</th>\n",
       "      <td>1.00000</td>\n",
       "      <td>1.000000</td>\n",
       "      <td>1.000000</td>\n",
       "      <td>8.747247e+08</td>\n",
       "    </tr>\n",
       "    <tr>\n",
       "      <th>25%</th>\n",
       "      <td>254.00000</td>\n",
       "      <td>175.000000</td>\n",
       "      <td>3.000000</td>\n",
       "      <td>8.794487e+08</td>\n",
       "    </tr>\n",
       "    <tr>\n",
       "      <th>50%</th>\n",
       "      <td>447.00000</td>\n",
       "      <td>322.000000</td>\n",
       "      <td>4.000000</td>\n",
       "      <td>8.828269e+08</td>\n",
       "    </tr>\n",
       "    <tr>\n",
       "      <th>75%</th>\n",
       "      <td>682.00000</td>\n",
       "      <td>631.000000</td>\n",
       "      <td>4.000000</td>\n",
       "      <td>8.882600e+08</td>\n",
       "    </tr>\n",
       "    <tr>\n",
       "      <th>max</th>\n",
       "      <td>943.00000</td>\n",
       "      <td>1682.000000</td>\n",
       "      <td>5.000000</td>\n",
       "      <td>8.932866e+08</td>\n",
       "    </tr>\n",
       "  </tbody>\n",
       "</table>\n",
       "</div>"
      ],
      "text/plain": [
       "            user id       movie id         rating     timestamp\n",
       "count  100000.00000  100000.000000  100000.000000  1.000000e+05\n",
       "mean      462.48475     425.530130       3.529860  8.835289e+08\n",
       "std       266.61442     330.798356       1.125674  5.343856e+06\n",
       "min         1.00000       1.000000       1.000000  8.747247e+08\n",
       "25%       254.00000     175.000000       3.000000  8.794487e+08\n",
       "50%       447.00000     322.000000       4.000000  8.828269e+08\n",
       "75%       682.00000     631.000000       4.000000  8.882600e+08\n",
       "max       943.00000    1682.000000       5.000000  8.932866e+08"
      ]
     },
     "execution_count": 14,
     "metadata": {},
     "output_type": "execute_result"
    }
   ],
   "source": [
    "ratings.describe()"
   ]
  },
  {
   "cell_type": "markdown",
   "metadata": {
    "id": "zOmSCKlvJFYR"
   },
   "source": [
    "- *The numbers for the `timestamp` column do not convey any meaningful insights. However, from the `rating` column, we can see that the average rating of all the movies is around 3.53 while  the ratings ranges from 1 to 5.*"
   ]
  },
  {
   "cell_type": "markdown",
   "metadata": {
    "id": "Fny1DnbXgnzF"
   },
   "source": [
    "By now we have considerable idea about the datasets we are working with. It's time to dig deeper and find out answers to some important questions that will help us get a better idea about the industry.<br>\n"
   ]
  },
  {
   "cell_type": "markdown",
   "metadata": {
    "id": "EZfs_maoHfqc"
   },
   "source": [
    "***Let's extract some meaningful insights from the data by answering a few business-oriented questions***"
   ]
  },
  {
   "cell_type": "markdown",
   "metadata": {
    "id": "CmfHRQUTnsYy"
   },
   "source": [
    "<h1><font size=6>How many movies belong to a particular genre?</font></h1>"
   ]
  },
  {
   "cell_type": "markdown",
   "metadata": {
    "id": "jIZjdaFKHcHU"
   },
   "source": [
    "We had seen earlier that a particular movie can have multiple genres. So let us investigate on this more.<br>"
   ]
  },
  {
   "cell_type": "markdown",
   "metadata": {
    "id": "rud-28DwIove"
   },
   "source": [
    "**But do you remember which dataset contains information about genres of movies ???**\n",
    "\n",
    "*Yes*, movie dataset does contains this information. So let's try to have look on that"
   ]
  },
  {
   "cell_type": "code",
   "execution_count": 15,
   "metadata": {
    "colab": {
     "base_uri": "https://localhost:8080/",
     "height": 374
    },
    "id": "edUNcMDeieDs",
    "outputId": "de9cae33-2d60-4bdc-c512-78892365ca3c"
   },
   "outputs": [
    {
     "data": {
      "text/html": [
       "<div>\n",
       "<style scoped>\n",
       "    .dataframe tbody tr th:only-of-type {\n",
       "        vertical-align: middle;\n",
       "    }\n",
       "\n",
       "    .dataframe tbody tr th {\n",
       "        vertical-align: top;\n",
       "    }\n",
       "\n",
       "    .dataframe thead th {\n",
       "        text-align: right;\n",
       "    }\n",
       "</style>\n",
       "<table border=\"1\" class=\"dataframe\">\n",
       "  <thead>\n",
       "    <tr style=\"text-align: right;\">\n",
       "      <th></th>\n",
       "      <th>movie id</th>\n",
       "      <th>movie title</th>\n",
       "      <th>release date</th>\n",
       "      <th>Action</th>\n",
       "      <th>Adventure</th>\n",
       "      <th>Animation</th>\n",
       "      <th>Childrens</th>\n",
       "      <th>Comedy</th>\n",
       "      <th>Crime</th>\n",
       "      <th>Documentary</th>\n",
       "      <th>...</th>\n",
       "      <th>Fantasy</th>\n",
       "      <th>Film-Noir</th>\n",
       "      <th>Horror</th>\n",
       "      <th>Musical</th>\n",
       "      <th>Mystery</th>\n",
       "      <th>Romance</th>\n",
       "      <th>Sci-Fi</th>\n",
       "      <th>Thriller</th>\n",
       "      <th>War</th>\n",
       "      <th>Western</th>\n",
       "    </tr>\n",
       "  </thead>\n",
       "  <tbody>\n",
       "    <tr>\n",
       "      <th>0</th>\n",
       "      <td>1</td>\n",
       "      <td>Toy Story</td>\n",
       "      <td>1995-01-01</td>\n",
       "      <td>0</td>\n",
       "      <td>0</td>\n",
       "      <td>1</td>\n",
       "      <td>1</td>\n",
       "      <td>1</td>\n",
       "      <td>0</td>\n",
       "      <td>0</td>\n",
       "      <td>...</td>\n",
       "      <td>0</td>\n",
       "      <td>0</td>\n",
       "      <td>0</td>\n",
       "      <td>0</td>\n",
       "      <td>0</td>\n",
       "      <td>0</td>\n",
       "      <td>0</td>\n",
       "      <td>0</td>\n",
       "      <td>0</td>\n",
       "      <td>0</td>\n",
       "    </tr>\n",
       "    <tr>\n",
       "      <th>1</th>\n",
       "      <td>2</td>\n",
       "      <td>GoldenEye</td>\n",
       "      <td>1995-01-01</td>\n",
       "      <td>1</td>\n",
       "      <td>1</td>\n",
       "      <td>0</td>\n",
       "      <td>0</td>\n",
       "      <td>0</td>\n",
       "      <td>0</td>\n",
       "      <td>0</td>\n",
       "      <td>...</td>\n",
       "      <td>0</td>\n",
       "      <td>0</td>\n",
       "      <td>0</td>\n",
       "      <td>0</td>\n",
       "      <td>0</td>\n",
       "      <td>0</td>\n",
       "      <td>0</td>\n",
       "      <td>1</td>\n",
       "      <td>0</td>\n",
       "      <td>0</td>\n",
       "    </tr>\n",
       "    <tr>\n",
       "      <th>2</th>\n",
       "      <td>3</td>\n",
       "      <td>Four Rooms</td>\n",
       "      <td>1995-01-01</td>\n",
       "      <td>0</td>\n",
       "      <td>0</td>\n",
       "      <td>0</td>\n",
       "      <td>0</td>\n",
       "      <td>0</td>\n",
       "      <td>0</td>\n",
       "      <td>0</td>\n",
       "      <td>...</td>\n",
       "      <td>0</td>\n",
       "      <td>0</td>\n",
       "      <td>0</td>\n",
       "      <td>0</td>\n",
       "      <td>0</td>\n",
       "      <td>0</td>\n",
       "      <td>0</td>\n",
       "      <td>1</td>\n",
       "      <td>0</td>\n",
       "      <td>0</td>\n",
       "    </tr>\n",
       "    <tr>\n",
       "      <th>3</th>\n",
       "      <td>4</td>\n",
       "      <td>Get Shorty</td>\n",
       "      <td>1995-01-01</td>\n",
       "      <td>1</td>\n",
       "      <td>0</td>\n",
       "      <td>0</td>\n",
       "      <td>0</td>\n",
       "      <td>1</td>\n",
       "      <td>0</td>\n",
       "      <td>0</td>\n",
       "      <td>...</td>\n",
       "      <td>0</td>\n",
       "      <td>0</td>\n",
       "      <td>0</td>\n",
       "      <td>0</td>\n",
       "      <td>0</td>\n",
       "      <td>0</td>\n",
       "      <td>0</td>\n",
       "      <td>0</td>\n",
       "      <td>0</td>\n",
       "      <td>0</td>\n",
       "    </tr>\n",
       "    <tr>\n",
       "      <th>4</th>\n",
       "      <td>5</td>\n",
       "      <td>Copycat</td>\n",
       "      <td>1995-01-01</td>\n",
       "      <td>0</td>\n",
       "      <td>0</td>\n",
       "      <td>0</td>\n",
       "      <td>0</td>\n",
       "      <td>0</td>\n",
       "      <td>1</td>\n",
       "      <td>0</td>\n",
       "      <td>...</td>\n",
       "      <td>0</td>\n",
       "      <td>0</td>\n",
       "      <td>0</td>\n",
       "      <td>0</td>\n",
       "      <td>0</td>\n",
       "      <td>0</td>\n",
       "      <td>0</td>\n",
       "      <td>1</td>\n",
       "      <td>0</td>\n",
       "      <td>0</td>\n",
       "    </tr>\n",
       "  </tbody>\n",
       "</table>\n",
       "<p>5 rows × 21 columns</p>\n",
       "</div>"
      ],
      "text/plain": [
       "   movie id  movie title release date  Action  Adventure  Animation  \\\n",
       "0         1   Toy Story    1995-01-01       0          0          1   \n",
       "1         2   GoldenEye    1995-01-01       1          1          0   \n",
       "2         3  Four Rooms    1995-01-01       0          0          0   \n",
       "3         4  Get Shorty    1995-01-01       1          0          0   \n",
       "4         5     Copycat    1995-01-01       0          0          0   \n",
       "\n",
       "   Childrens  Comedy  Crime  Documentary  ...  Fantasy  Film-Noir  Horror  \\\n",
       "0          1       1      0            0  ...        0          0       0   \n",
       "1          0       0      0            0  ...        0          0       0   \n",
       "2          0       0      0            0  ...        0          0       0   \n",
       "3          0       1      0            0  ...        0          0       0   \n",
       "4          0       0      1            0  ...        0          0       0   \n",
       "\n",
       "   Musical  Mystery  Romance  Sci-Fi  Thriller  War  Western  \n",
       "0        0        0        0       0         0    0        0  \n",
       "1        0        0        0       0         1    0        0  \n",
       "2        0        0        0       0         1    0        0  \n",
       "3        0        0        0       0         0    0        0  \n",
       "4        0        0        0       0         1    0        0  \n",
       "\n",
       "[5 rows x 21 columns]"
      ]
     },
     "execution_count": 15,
     "metadata": {},
     "output_type": "execute_result"
    }
   ],
   "source": [
    "movie.head()"
   ]
  },
  {
   "cell_type": "markdown",
   "metadata": {
    "id": "D9V8mfBcizGx"
   },
   "source": [
    "Let's analyze this dataset using some Pandas Functions"
   ]
  },
  {
   "cell_type": "markdown",
   "metadata": {
    "id": "XCKMkndEVoJv"
   },
   "source": [
    "### **Pandas Functions**"
   ]
  },
  {
   "cell_type": "markdown",
   "metadata": {
    "id": "oESFNQdXkDAW"
   },
   "source": [
    "#### **Getting all the columns of the movie dataset**"
   ]
  },
  {
   "cell_type": "markdown",
   "metadata": {
    "id": "bII7DkCkgHnR"
   },
   "source": [
    "Let us print all the columns of the movie dataset so that we can get a better idea about what all genres are there"
   ]
  },
  {
   "cell_type": "code",
   "execution_count": 16,
   "metadata": {
    "colab": {
     "base_uri": "https://localhost:8080/"
    },
    "id": "GxbSbCMlj7as",
    "outputId": "044a9f01-8281-4153-e19f-48f6626886c0"
   },
   "outputs": [
    {
     "data": {
      "text/plain": [
       "Index(['movie id', 'movie title', 'release date', 'Action', 'Adventure',\n",
       "       'Animation', 'Childrens', 'Comedy', 'Crime', 'Documentary', 'Drama',\n",
       "       'Fantasy', 'Film-Noir', 'Horror', 'Musical', 'Mystery', 'Romance',\n",
       "       'Sci-Fi', 'Thriller', 'War', 'Western'],\n",
       "      dtype='object')"
      ]
     },
     "execution_count": 16,
     "metadata": {},
     "output_type": "execute_result"
    }
   ],
   "source": [
    "movie.columns"
   ]
  },
  {
   "cell_type": "markdown",
   "metadata": {
    "id": "0jPqHIJEkWJ0"
   },
   "source": [
    "- *We can see that all the columns starting from 'Action' to 'Western' are columns that are related to the genres of the movies.*\n",
    "\n",
    "Since there are many genres present in this dataset, let's create a variable to store all these values as a list so that we can use it for further analysis."
   ]
  },
  {
   "cell_type": "code",
   "execution_count": 17,
   "metadata": {
    "id": "nP941AUfluLU"
   },
   "outputs": [],
   "source": [
    "genres = ['Action', 'Adventure',\n",
    "       'Animation', 'Childrens', 'Comedy', 'Crime', 'Documentary', 'Drama',\n",
    "       'Fantasy', 'Film-Noir', 'Horror', 'Musical', 'Mystery', 'Romance',\n",
    "       'Sci-Fi', 'Thriller', 'War', 'Western']"
   ]
  },
  {
   "cell_type": "code",
   "execution_count": 18,
   "metadata": {
    "colab": {
     "base_uri": "https://localhost:8080/"
    },
    "id": "vwzi325ene3j",
    "outputId": "4f58480a-61e1-4036-b176-9c32f6c1840f"
   },
   "outputs": [
    {
     "name": "stdout",
     "output_type": "stream",
     "text": [
      "The number of genres present in the movie dataset are  18\n"
     ]
    }
   ],
   "source": [
    "# using the len() function to calculate the number of genres\n",
    "print('The number of genres present in the movie dataset are ', len(genres))"
   ]
  },
  {
   "cell_type": "markdown",
   "metadata": {
    "id": "Xkp9oZcwnptg"
   },
   "source": [
    "- ***There are 18 genres in total.***"
   ]
  },
  {
   "cell_type": "markdown",
   "metadata": {
    "id": "0b02y2Rdpl6i"
   },
   "source": [
    "One of the way to find the answer is to take all the genre columns and find the sum for each column. Here, instead of writing the genre columns again, we will use the 'genres' list."
   ]
  },
  {
   "cell_type": "code",
   "execution_count": 19,
   "metadata": {
    "colab": {
     "base_uri": "https://localhost:8080/"
    },
    "id": "K_5nWM2KqV0h",
    "outputId": "d8e219b0-f747-4456-fecb-986849d0e5d0"
   },
   "outputs": [
    {
     "data": {
      "text/plain": [
       "['Action',\n",
       " 'Adventure',\n",
       " 'Animation',\n",
       " 'Childrens',\n",
       " 'Comedy',\n",
       " 'Crime',\n",
       " 'Documentary',\n",
       " 'Drama',\n",
       " 'Fantasy',\n",
       " 'Film-Noir',\n",
       " 'Horror',\n",
       " 'Musical',\n",
       " 'Mystery',\n",
       " 'Romance',\n",
       " 'Sci-Fi',\n",
       " 'Thriller',\n",
       " 'War',\n",
       " 'Western']"
      ]
     },
     "execution_count": 19,
     "metadata": {},
     "output_type": "execute_result"
    }
   ],
   "source": [
    "# printing the genres list\n",
    "genres"
   ]
  },
  {
   "cell_type": "code",
   "execution_count": 20,
   "metadata": {
    "colab": {
     "base_uri": "https://localhost:8080/"
    },
    "id": "MYLo-m-Kqgw_",
    "outputId": "2868de9d-9ebf-4e67-db97-39f1e52b0c3f"
   },
   "outputs": [
    {
     "data": {
      "text/plain": [
       "Action         251\n",
       "Adventure      135\n",
       "Animation       42\n",
       "Childrens      122\n",
       "Comedy         505\n",
       "Crime          109\n",
       "Documentary     50\n",
       "Drama          725\n",
       "Fantasy         22\n",
       "Film-Noir       24\n",
       "Horror          92\n",
       "Musical         56\n",
       "Mystery         61\n",
       "Romance        247\n",
       "Sci-Fi         101\n",
       "Thriller       251\n",
       "War             71\n",
       "Western         27\n",
       "dtype: int64"
      ]
     },
     "execution_count": 20,
     "metadata": {},
     "output_type": "execute_result"
    }
   ],
   "source": [
    "movie[genres].sum()"
   ]
  },
  {
   "cell_type": "markdown",
   "metadata": {
    "id": "P_yfTH0oqsfy"
   },
   "source": [
    "- *Here, we can see that 'Action' genre has 251 movies, 'Adventure' genre has 135 movies and so on. However it would have been far better if we had a series where the numbers were arranged in ascending or descending order so that we could have easily found out the genres with the highest and lowest number of movies.* <br>\n",
    "\n",
    "This can be achieved by simply using the **sort_values()** function to arrange the numbers in descending or ascending order."
   ]
  },
  {
   "cell_type": "markdown",
   "metadata": {
    "id": "0lAAQFfR0G1I"
   },
   "source": [
    "**sort_values() Function**<br>\n",
    "Pandas sort_values() function sorts a data frame in Ascending or Descending order of passed Column. It’s different than the sorted Python function since it cannot sort a data frame and particular column cannot be selected."
   ]
  },
  {
   "cell_type": "markdown",
   "metadata": {
    "id": "CFItxVYwz-lc"
   },
   "source": [
    "![sort.png](data:image/png;base64,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)"
   ]
  },
  {
   "cell_type": "code",
   "execution_count": 21,
   "metadata": {
    "colab": {
     "base_uri": "https://localhost:8080/"
    },
    "id": "-sV8g3wasb-k",
    "outputId": "f17ee091-9b91-4c96-8c7e-dfa53b18d3d0"
   },
   "outputs": [
    {
     "data": {
      "text/plain": [
       "Drama          725\n",
       "Comedy         505\n",
       "Action         251\n",
       "Thriller       251\n",
       "Romance        247\n",
       "Adventure      135\n",
       "Childrens      122\n",
       "Crime          109\n",
       "Sci-Fi         101\n",
       "Horror          92\n",
       "War             71\n",
       "Mystery         61\n",
       "Musical         56\n",
       "Documentary     50\n",
       "Animation       42\n",
       "Western         27\n",
       "Film-Noir       24\n",
       "Fantasy         22\n",
       "dtype: int64"
      ]
     },
     "execution_count": 21,
     "metadata": {},
     "output_type": "execute_result"
    }
   ],
   "source": [
    "movie[genres].sum().sort_values(ascending = False) #ascending= False will sort the values in descending order. By default the parameter ascending is set to True"
   ]
  },
  {
   "cell_type": "markdown",
   "metadata": {
    "id": "akHrcuNRs9es"
   },
   "source": [
    "<h1><font size=5>Insights</font></h1>\n"
   ]
  },
  {
   "cell_type": "markdown",
   "metadata": {
    "id": "zYGBdi8nLk0g"
   },
   "source": [
    "- *Movies are distributed across 18 genres in total*\n",
    "- *We can observe that 'Drama' genre has the highest number of movies with 725 in total followed by 'Comedy' at 505* \n",
    "- *The top five genres with the highest number of movies are 'Drama', 'Comedy', 'Action', 'Thriller', and 'Romance'* \n",
    "- *'Fantasy' genre has the lowest number of movies (22 in count)* "
   ]
  },
  {
   "cell_type": "markdown",
   "metadata": {
    "id": "HSHWlipgOVs8"
   },
   "source": [
    "<h1><font size=6>Can we find the movies that have more than one genre?</font></h1>"
   ]
  },
  {
   "cell_type": "markdown",
   "metadata": {
    "id": "qqkuyYCqt6F-"
   },
   "source": [
    "As discussed earlier a particular movie can have more than one genre, so to answer the above problem we can use the below steps:\n"
   ]
  },
  {
   "cell_type": "markdown",
   "metadata": {
    "id": "VC3joRPmPowX"
   },
   "source": [
    "- The basic approach to find out this information will be to add a new column to the movie dataframe that will contain the summation of 1's from the genre columns along the row for a particular movie \n",
    "- After this we can find out the number of movies that have more than one genre by simply picking up the rows where the added new column is having a value of more than 1\n",
    "\n",
    "So, let us create a new column named `Number of Genres` and add it to the dataframe."
   ]
  },
  {
   "cell_type": "code",
   "execution_count": 22,
   "metadata": {
    "id": "Oty1JtN7OUha"
   },
   "outputs": [],
   "source": [
    "movie[\"Number of Genres\"] = movie.loc[:, genres].sum(axis=1)"
   ]
  },
  {
   "cell_type": "markdown",
   "metadata": {
    "id": "H-uOEJyiSHZY"
   },
   "source": [
    "- *The above code adds a new column named `Number of Genres` to the dataframe. This new column consists the summation of 1s from the genre columns along the row for a particular movie*<br>\n",
    "- *movie.loc[:, genres] - This is picking up all the rows and the columns that are present in the genres list* \n",
    "- *The axis = 1 parameter is used to get the summation of the values along the row while axis = 0 is used to get the summation of the values along the column*"
   ]
  },
  {
   "cell_type": "markdown",
   "metadata": {
    "id": "S0KGi-C7JMIy"
   },
   "source": [
    "Now let us print the head of the movie column and see whether the new column has been added or not."
   ]
  },
  {
   "cell_type": "code",
   "execution_count": 23,
   "metadata": {
    "colab": {
     "base_uri": "https://localhost:8080/",
     "height": 392
    },
    "id": "MNOnBrXDJZOY",
    "outputId": "aeb46e5c-e6e2-4346-af03-d43f5e944b79"
   },
   "outputs": [
    {
     "data": {
      "text/html": [
       "<div>\n",
       "<style scoped>\n",
       "    .dataframe tbody tr th:only-of-type {\n",
       "        vertical-align: middle;\n",
       "    }\n",
       "\n",
       "    .dataframe tbody tr th {\n",
       "        vertical-align: top;\n",
       "    }\n",
       "\n",
       "    .dataframe thead th {\n",
       "        text-align: right;\n",
       "    }\n",
       "</style>\n",
       "<table border=\"1\" class=\"dataframe\">\n",
       "  <thead>\n",
       "    <tr style=\"text-align: right;\">\n",
       "      <th></th>\n",
       "      <th>movie id</th>\n",
       "      <th>movie title</th>\n",
       "      <th>release date</th>\n",
       "      <th>Action</th>\n",
       "      <th>Adventure</th>\n",
       "      <th>Animation</th>\n",
       "      <th>Childrens</th>\n",
       "      <th>Comedy</th>\n",
       "      <th>Crime</th>\n",
       "      <th>Documentary</th>\n",
       "      <th>...</th>\n",
       "      <th>Film-Noir</th>\n",
       "      <th>Horror</th>\n",
       "      <th>Musical</th>\n",
       "      <th>Mystery</th>\n",
       "      <th>Romance</th>\n",
       "      <th>Sci-Fi</th>\n",
       "      <th>Thriller</th>\n",
       "      <th>War</th>\n",
       "      <th>Western</th>\n",
       "      <th>Number of Genres</th>\n",
       "    </tr>\n",
       "  </thead>\n",
       "  <tbody>\n",
       "    <tr>\n",
       "      <th>0</th>\n",
       "      <td>1</td>\n",
       "      <td>Toy Story</td>\n",
       "      <td>1995-01-01</td>\n",
       "      <td>0</td>\n",
       "      <td>0</td>\n",
       "      <td>1</td>\n",
       "      <td>1</td>\n",
       "      <td>1</td>\n",
       "      <td>0</td>\n",
       "      <td>0</td>\n",
       "      <td>...</td>\n",
       "      <td>0</td>\n",
       "      <td>0</td>\n",
       "      <td>0</td>\n",
       "      <td>0</td>\n",
       "      <td>0</td>\n",
       "      <td>0</td>\n",
       "      <td>0</td>\n",
       "      <td>0</td>\n",
       "      <td>0</td>\n",
       "      <td>3</td>\n",
       "    </tr>\n",
       "    <tr>\n",
       "      <th>1</th>\n",
       "      <td>2</td>\n",
       "      <td>GoldenEye</td>\n",
       "      <td>1995-01-01</td>\n",
       "      <td>1</td>\n",
       "      <td>1</td>\n",
       "      <td>0</td>\n",
       "      <td>0</td>\n",
       "      <td>0</td>\n",
       "      <td>0</td>\n",
       "      <td>0</td>\n",
       "      <td>...</td>\n",
       "      <td>0</td>\n",
       "      <td>0</td>\n",
       "      <td>0</td>\n",
       "      <td>0</td>\n",
       "      <td>0</td>\n",
       "      <td>0</td>\n",
       "      <td>1</td>\n",
       "      <td>0</td>\n",
       "      <td>0</td>\n",
       "      <td>3</td>\n",
       "    </tr>\n",
       "    <tr>\n",
       "      <th>2</th>\n",
       "      <td>3</td>\n",
       "      <td>Four Rooms</td>\n",
       "      <td>1995-01-01</td>\n",
       "      <td>0</td>\n",
       "      <td>0</td>\n",
       "      <td>0</td>\n",
       "      <td>0</td>\n",
       "      <td>0</td>\n",
       "      <td>0</td>\n",
       "      <td>0</td>\n",
       "      <td>...</td>\n",
       "      <td>0</td>\n",
       "      <td>0</td>\n",
       "      <td>0</td>\n",
       "      <td>0</td>\n",
       "      <td>0</td>\n",
       "      <td>0</td>\n",
       "      <td>1</td>\n",
       "      <td>0</td>\n",
       "      <td>0</td>\n",
       "      <td>1</td>\n",
       "    </tr>\n",
       "    <tr>\n",
       "      <th>3</th>\n",
       "      <td>4</td>\n",
       "      <td>Get Shorty</td>\n",
       "      <td>1995-01-01</td>\n",
       "      <td>1</td>\n",
       "      <td>0</td>\n",
       "      <td>0</td>\n",
       "      <td>0</td>\n",
       "      <td>1</td>\n",
       "      <td>0</td>\n",
       "      <td>0</td>\n",
       "      <td>...</td>\n",
       "      <td>0</td>\n",
       "      <td>0</td>\n",
       "      <td>0</td>\n",
       "      <td>0</td>\n",
       "      <td>0</td>\n",
       "      <td>0</td>\n",
       "      <td>0</td>\n",
       "      <td>0</td>\n",
       "      <td>0</td>\n",
       "      <td>3</td>\n",
       "    </tr>\n",
       "    <tr>\n",
       "      <th>4</th>\n",
       "      <td>5</td>\n",
       "      <td>Copycat</td>\n",
       "      <td>1995-01-01</td>\n",
       "      <td>0</td>\n",
       "      <td>0</td>\n",
       "      <td>0</td>\n",
       "      <td>0</td>\n",
       "      <td>0</td>\n",
       "      <td>1</td>\n",
       "      <td>0</td>\n",
       "      <td>...</td>\n",
       "      <td>0</td>\n",
       "      <td>0</td>\n",
       "      <td>0</td>\n",
       "      <td>0</td>\n",
       "      <td>0</td>\n",
       "      <td>0</td>\n",
       "      <td>1</td>\n",
       "      <td>0</td>\n",
       "      <td>0</td>\n",
       "      <td>3</td>\n",
       "    </tr>\n",
       "  </tbody>\n",
       "</table>\n",
       "<p>5 rows × 22 columns</p>\n",
       "</div>"
      ],
      "text/plain": [
       "   movie id  movie title release date  Action  Adventure  Animation  \\\n",
       "0         1   Toy Story    1995-01-01       0          0          1   \n",
       "1         2   GoldenEye    1995-01-01       1          1          0   \n",
       "2         3  Four Rooms    1995-01-01       0          0          0   \n",
       "3         4  Get Shorty    1995-01-01       1          0          0   \n",
       "4         5     Copycat    1995-01-01       0          0          0   \n",
       "\n",
       "   Childrens  Comedy  Crime  Documentary  ...  Film-Noir  Horror  Musical  \\\n",
       "0          1       1      0            0  ...          0       0        0   \n",
       "1          0       0      0            0  ...          0       0        0   \n",
       "2          0       0      0            0  ...          0       0        0   \n",
       "3          0       1      0            0  ...          0       0        0   \n",
       "4          0       0      1            0  ...          0       0        0   \n",
       "\n",
       "   Mystery  Romance  Sci-Fi  Thriller  War  Western  Number of Genres  \n",
       "0        0        0       0         0    0        0                 3  \n",
       "1        0        0       0         1    0        0                 3  \n",
       "2        0        0       0         1    0        0                 1  \n",
       "3        0        0       0         0    0        0                 3  \n",
       "4        0        0       0         1    0        0                 3  \n",
       "\n",
       "[5 rows x 22 columns]"
      ]
     },
     "execution_count": 23,
     "metadata": {},
     "output_type": "execute_result"
    }
   ],
   "source": [
    "movie.head()"
   ]
  },
  {
   "cell_type": "markdown",
   "metadata": {
    "id": "hBTgX7AiJhno"
   },
   "source": [
    "- *As we can see a new column named `Number of Genres` has been added at the end of the dataframe*"
   ]
  },
  {
   "cell_type": "markdown",
   "metadata": {
    "id": "TcKAml0sJ1W6"
   },
   "source": [
    "Now let us pick up the rows where `Number of Genres`>1 so that we can find the number of movies with more than 1 genre"
   ]
  },
  {
   "cell_type": "code",
   "execution_count": 24,
   "metadata": {
    "colab": {
     "base_uri": "https://localhost:8080/",
     "height": 713
    },
    "id": "AOq1yKNFRdI6",
    "outputId": "5f4acc12-39c2-4d53-8420-1de94dd56984"
   },
   "outputs": [
    {
     "data": {
      "text/html": [
       "<div>\n",
       "<style scoped>\n",
       "    .dataframe tbody tr th:only-of-type {\n",
       "        vertical-align: middle;\n",
       "    }\n",
       "\n",
       "    .dataframe tbody tr th {\n",
       "        vertical-align: top;\n",
       "    }\n",
       "\n",
       "    .dataframe thead th {\n",
       "        text-align: right;\n",
       "    }\n",
       "</style>\n",
       "<table border=\"1\" class=\"dataframe\">\n",
       "  <thead>\n",
       "    <tr style=\"text-align: right;\">\n",
       "      <th></th>\n",
       "      <th>movie id</th>\n",
       "      <th>movie title</th>\n",
       "      <th>release date</th>\n",
       "      <th>Action</th>\n",
       "      <th>Adventure</th>\n",
       "      <th>Animation</th>\n",
       "      <th>Childrens</th>\n",
       "      <th>Comedy</th>\n",
       "      <th>Crime</th>\n",
       "      <th>Documentary</th>\n",
       "      <th>...</th>\n",
       "      <th>Film-Noir</th>\n",
       "      <th>Horror</th>\n",
       "      <th>Musical</th>\n",
       "      <th>Mystery</th>\n",
       "      <th>Romance</th>\n",
       "      <th>Sci-Fi</th>\n",
       "      <th>Thriller</th>\n",
       "      <th>War</th>\n",
       "      <th>Western</th>\n",
       "      <th>Number of Genres</th>\n",
       "    </tr>\n",
       "  </thead>\n",
       "  <tbody>\n",
       "    <tr>\n",
       "      <th>0</th>\n",
       "      <td>1</td>\n",
       "      <td>Toy Story</td>\n",
       "      <td>1995-01-01</td>\n",
       "      <td>0</td>\n",
       "      <td>0</td>\n",
       "      <td>1</td>\n",
       "      <td>1</td>\n",
       "      <td>1</td>\n",
       "      <td>0</td>\n",
       "      <td>0</td>\n",
       "      <td>...</td>\n",
       "      <td>0</td>\n",
       "      <td>0</td>\n",
       "      <td>0</td>\n",
       "      <td>0</td>\n",
       "      <td>0</td>\n",
       "      <td>0</td>\n",
       "      <td>0</td>\n",
       "      <td>0</td>\n",
       "      <td>0</td>\n",
       "      <td>3</td>\n",
       "    </tr>\n",
       "    <tr>\n",
       "      <th>1</th>\n",
       "      <td>2</td>\n",
       "      <td>GoldenEye</td>\n",
       "      <td>1995-01-01</td>\n",
       "      <td>1</td>\n",
       "      <td>1</td>\n",
       "      <td>0</td>\n",
       "      <td>0</td>\n",
       "      <td>0</td>\n",
       "      <td>0</td>\n",
       "      <td>0</td>\n",
       "      <td>...</td>\n",
       "      <td>0</td>\n",
       "      <td>0</td>\n",
       "      <td>0</td>\n",
       "      <td>0</td>\n",
       "      <td>0</td>\n",
       "      <td>0</td>\n",
       "      <td>1</td>\n",
       "      <td>0</td>\n",
       "      <td>0</td>\n",
       "      <td>3</td>\n",
       "    </tr>\n",
       "    <tr>\n",
       "      <th>3</th>\n",
       "      <td>4</td>\n",
       "      <td>Get Shorty</td>\n",
       "      <td>1995-01-01</td>\n",
       "      <td>1</td>\n",
       "      <td>0</td>\n",
       "      <td>0</td>\n",
       "      <td>0</td>\n",
       "      <td>1</td>\n",
       "      <td>0</td>\n",
       "      <td>0</td>\n",
       "      <td>...</td>\n",
       "      <td>0</td>\n",
       "      <td>0</td>\n",
       "      <td>0</td>\n",
       "      <td>0</td>\n",
       "      <td>0</td>\n",
       "      <td>0</td>\n",
       "      <td>0</td>\n",
       "      <td>0</td>\n",
       "      <td>0</td>\n",
       "      <td>3</td>\n",
       "    </tr>\n",
       "    <tr>\n",
       "      <th>4</th>\n",
       "      <td>5</td>\n",
       "      <td>Copycat</td>\n",
       "      <td>1995-01-01</td>\n",
       "      <td>0</td>\n",
       "      <td>0</td>\n",
       "      <td>0</td>\n",
       "      <td>0</td>\n",
       "      <td>0</td>\n",
       "      <td>1</td>\n",
       "      <td>0</td>\n",
       "      <td>...</td>\n",
       "      <td>0</td>\n",
       "      <td>0</td>\n",
       "      <td>0</td>\n",
       "      <td>0</td>\n",
       "      <td>0</td>\n",
       "      <td>0</td>\n",
       "      <td>1</td>\n",
       "      <td>0</td>\n",
       "      <td>0</td>\n",
       "      <td>3</td>\n",
       "    </tr>\n",
       "    <tr>\n",
       "      <th>6</th>\n",
       "      <td>7</td>\n",
       "      <td>Twelve Monkeys</td>\n",
       "      <td>1995-01-01</td>\n",
       "      <td>0</td>\n",
       "      <td>0</td>\n",
       "      <td>0</td>\n",
       "      <td>0</td>\n",
       "      <td>0</td>\n",
       "      <td>0</td>\n",
       "      <td>0</td>\n",
       "      <td>...</td>\n",
       "      <td>0</td>\n",
       "      <td>0</td>\n",
       "      <td>0</td>\n",
       "      <td>0</td>\n",
       "      <td>0</td>\n",
       "      <td>1</td>\n",
       "      <td>0</td>\n",
       "      <td>0</td>\n",
       "      <td>0</td>\n",
       "      <td>2</td>\n",
       "    </tr>\n",
       "    <tr>\n",
       "      <th>...</th>\n",
       "      <td>...</td>\n",
       "      <td>...</td>\n",
       "      <td>...</td>\n",
       "      <td>...</td>\n",
       "      <td>...</td>\n",
       "      <td>...</td>\n",
       "      <td>...</td>\n",
       "      <td>...</td>\n",
       "      <td>...</td>\n",
       "      <td>...</td>\n",
       "      <td>...</td>\n",
       "      <td>...</td>\n",
       "      <td>...</td>\n",
       "      <td>...</td>\n",
       "      <td>...</td>\n",
       "      <td>...</td>\n",
       "      <td>...</td>\n",
       "      <td>...</td>\n",
       "      <td>...</td>\n",
       "      <td>...</td>\n",
       "      <td>...</td>\n",
       "    </tr>\n",
       "    <tr>\n",
       "      <th>1666</th>\n",
       "      <td>1669</td>\n",
       "      <td>MURDER and murder</td>\n",
       "      <td>1997-06-20</td>\n",
       "      <td>0</td>\n",
       "      <td>0</td>\n",
       "      <td>0</td>\n",
       "      <td>0</td>\n",
       "      <td>0</td>\n",
       "      <td>1</td>\n",
       "      <td>0</td>\n",
       "      <td>...</td>\n",
       "      <td>0</td>\n",
       "      <td>0</td>\n",
       "      <td>0</td>\n",
       "      <td>1</td>\n",
       "      <td>0</td>\n",
       "      <td>0</td>\n",
       "      <td>0</td>\n",
       "      <td>0</td>\n",
       "      <td>0</td>\n",
       "      <td>3</td>\n",
       "    </tr>\n",
       "    <tr>\n",
       "      <th>1667</th>\n",
       "      <td>1670</td>\n",
       "      <td>Tainted</td>\n",
       "      <td>1998-02-01</td>\n",
       "      <td>0</td>\n",
       "      <td>0</td>\n",
       "      <td>0</td>\n",
       "      <td>0</td>\n",
       "      <td>1</td>\n",
       "      <td>0</td>\n",
       "      <td>0</td>\n",
       "      <td>...</td>\n",
       "      <td>0</td>\n",
       "      <td>0</td>\n",
       "      <td>0</td>\n",
       "      <td>0</td>\n",
       "      <td>0</td>\n",
       "      <td>0</td>\n",
       "      <td>1</td>\n",
       "      <td>0</td>\n",
       "      <td>0</td>\n",
       "      <td>2</td>\n",
       "    </tr>\n",
       "    <tr>\n",
       "      <th>1670</th>\n",
       "      <td>1673</td>\n",
       "      <td>Mirage</td>\n",
       "      <td>1995-01-01</td>\n",
       "      <td>1</td>\n",
       "      <td>0</td>\n",
       "      <td>0</td>\n",
       "      <td>0</td>\n",
       "      <td>0</td>\n",
       "      <td>0</td>\n",
       "      <td>0</td>\n",
       "      <td>...</td>\n",
       "      <td>0</td>\n",
       "      <td>0</td>\n",
       "      <td>0</td>\n",
       "      <td>0</td>\n",
       "      <td>0</td>\n",
       "      <td>0</td>\n",
       "      <td>1</td>\n",
       "      <td>0</td>\n",
       "      <td>0</td>\n",
       "      <td>2</td>\n",
       "    </tr>\n",
       "    <tr>\n",
       "      <th>1676</th>\n",
       "      <td>1679</td>\n",
       "      <td>B. Monkey</td>\n",
       "      <td>1998-02-06</td>\n",
       "      <td>0</td>\n",
       "      <td>0</td>\n",
       "      <td>0</td>\n",
       "      <td>0</td>\n",
       "      <td>0</td>\n",
       "      <td>0</td>\n",
       "      <td>0</td>\n",
       "      <td>...</td>\n",
       "      <td>0</td>\n",
       "      <td>0</td>\n",
       "      <td>0</td>\n",
       "      <td>0</td>\n",
       "      <td>1</td>\n",
       "      <td>0</td>\n",
       "      <td>1</td>\n",
       "      <td>0</td>\n",
       "      <td>0</td>\n",
       "      <td>2</td>\n",
       "    </tr>\n",
       "    <tr>\n",
       "      <th>1677</th>\n",
       "      <td>1680</td>\n",
       "      <td>Sliding Doors</td>\n",
       "      <td>1998-01-01</td>\n",
       "      <td>0</td>\n",
       "      <td>0</td>\n",
       "      <td>0</td>\n",
       "      <td>0</td>\n",
       "      <td>0</td>\n",
       "      <td>0</td>\n",
       "      <td>0</td>\n",
       "      <td>...</td>\n",
       "      <td>0</td>\n",
       "      <td>0</td>\n",
       "      <td>0</td>\n",
       "      <td>0</td>\n",
       "      <td>1</td>\n",
       "      <td>0</td>\n",
       "      <td>0</td>\n",
       "      <td>0</td>\n",
       "      <td>0</td>\n",
       "      <td>2</td>\n",
       "    </tr>\n",
       "  </tbody>\n",
       "</table>\n",
       "<p>849 rows × 22 columns</p>\n",
       "</div>"
      ],
      "text/plain": [
       "      movie id         movie title release date  Action  Adventure  Animation  \\\n",
       "0            1          Toy Story    1995-01-01       0          0          1   \n",
       "1            2          GoldenEye    1995-01-01       1          1          0   \n",
       "3            4         Get Shorty    1995-01-01       1          0          0   \n",
       "4            5            Copycat    1995-01-01       0          0          0   \n",
       "6            7     Twelve Monkeys    1995-01-01       0          0          0   \n",
       "...        ...                 ...          ...     ...        ...        ...   \n",
       "1666      1669  MURDER and murder    1997-06-20       0          0          0   \n",
       "1667      1670            Tainted    1998-02-01       0          0          0   \n",
       "1670      1673             Mirage    1995-01-01       1          0          0   \n",
       "1676      1679          B. Monkey    1998-02-06       0          0          0   \n",
       "1677      1680      Sliding Doors    1998-01-01       0          0          0   \n",
       "\n",
       "      Childrens  Comedy  Crime  Documentary  ...  Film-Noir  Horror  Musical  \\\n",
       "0             1       1      0            0  ...          0       0        0   \n",
       "1             0       0      0            0  ...          0       0        0   \n",
       "3             0       1      0            0  ...          0       0        0   \n",
       "4             0       0      1            0  ...          0       0        0   \n",
       "6             0       0      0            0  ...          0       0        0   \n",
       "...         ...     ...    ...          ...  ...        ...     ...      ...   \n",
       "1666          0       0      1            0  ...          0       0        0   \n",
       "1667          0       1      0            0  ...          0       0        0   \n",
       "1670          0       0      0            0  ...          0       0        0   \n",
       "1676          0       0      0            0  ...          0       0        0   \n",
       "1677          0       0      0            0  ...          0       0        0   \n",
       "\n",
       "      Mystery  Romance  Sci-Fi  Thriller  War  Western  Number of Genres  \n",
       "0           0        0       0         0    0        0                 3  \n",
       "1           0        0       0         1    0        0                 3  \n",
       "3           0        0       0         0    0        0                 3  \n",
       "4           0        0       0         1    0        0                 3  \n",
       "6           0        0       1         0    0        0                 2  \n",
       "...       ...      ...     ...       ...  ...      ...               ...  \n",
       "1666        1        0       0         0    0        0                 3  \n",
       "1667        0        0       0         1    0        0                 2  \n",
       "1670        0        0       0         1    0        0                 2  \n",
       "1676        0        1       0         1    0        0                 2  \n",
       "1677        0        1       0         0    0        0                 2  \n",
       "\n",
       "[849 rows x 22 columns]"
      ]
     },
     "execution_count": 24,
     "metadata": {},
     "output_type": "execute_result"
    }
   ],
   "source": [
    "movie[movie['Number of Genres']>1] #this will subset the data as per the given condition"
   ]
  },
  {
   "cell_type": "markdown",
   "metadata": {
    "id": "awtksFPg4cvv"
   },
   "source": [
    "Let us print the shape of this dataframe so that we know the number of movies that are having more than one genre."
   ]
  },
  {
   "cell_type": "code",
   "execution_count": 25,
   "metadata": {
    "colab": {
     "base_uri": "https://localhost:8080/"
    },
    "id": "mwi_2k10Kqhw",
    "outputId": "ab79e07e-7a44-4670-a1f2-5385ef69c9f0"
   },
   "outputs": [
    {
     "data": {
      "text/plain": [
       "(849, 22)"
      ]
     },
     "execution_count": 25,
     "metadata": {},
     "output_type": "execute_result"
    }
   ],
   "source": [
    "movie[movie['Number of Genres']>1].shape"
   ]
  },
  {
   "cell_type": "markdown",
   "metadata": {
    "id": "PbDVTbzg4w6Z"
   },
   "source": [
    "- *There are 849 movies that are having more than one genre.*"
   ]
  },
  {
   "cell_type": "code",
   "execution_count": 26,
   "metadata": {
    "colab": {
     "base_uri": "https://localhost:8080/"
    },
    "id": "ea7vazJZK5Jn",
    "outputId": "60b4b6b0-9b93-4be3-98c1-8567df478d32"
   },
   "outputs": [
    {
     "data": {
      "text/plain": [
       "(1680, 22)"
      ]
     },
     "execution_count": 26,
     "metadata": {},
     "output_type": "execute_result"
    }
   ],
   "source": [
    "movie.shape"
   ]
  },
  {
   "cell_type": "markdown",
   "metadata": {
    "id": "e0skYIHU4-TM"
   },
   "source": [
    "- *The original movie dataset contained 1680 movies. So out of 1680 movies, 849 i.e around 50% of the movies are having more than one genre.*"
   ]
  },
  {
   "cell_type": "markdown",
   "metadata": {
    "id": "yVbLA4LINF6r"
   },
   "source": [
    "<h1><font size=5>Insights</font></h1>\n"
   ]
  },
  {
   "cell_type": "markdown",
   "metadata": {
    "id": "Jt2tp5o8NF6s"
   },
   "source": [
    "- *Out of 1680 movies, 849 movies comprising around 50% are having more than one genre and 831 movies have only single genre*\n",
    "- *This shows that we have an almost equal ratio (50:50) of movies having more than one genre and having single genre*"
   ]
  },
  {
   "cell_type": "markdown",
   "metadata": {
    "id": "A8AC50Ks6CmM"
   },
   "source": [
    "<h1><font size=6>Can we find the genres that are most liked by the users?</font></h1>\n"
   ]
  },
  {
   "cell_type": "markdown",
   "metadata": {
    "id": "Jv3tSPxt8FdK"
   },
   "source": [
    "*As we have already seen that the information regarding the ratings is present in the ratings dataset, however, the genre columns are present in the movie dataset. The only column connecting this two datasets is the movie id column. We can `merge` both the datasets on the basis of common variable that is `movie_id`.*"
   ]
  },
  {
   "cell_type": "markdown",
   "metadata": {
    "id": "XWqRm5in9is6"
   },
   "source": [
    "**Merge/Join / Concatenation**<br>\n",
    "Pandas provide various facilities for easily combining together Series or DataFrame with various kinds of set logic for the indexes and relational algebra functionality in the case of join / merge-type operations.<br> <br>Here are the different types of the Joins:<br>\n",
    "\n",
    "**Inner Join**: Returns records that have matching values in both tables<br>"
   ]
  },
  {
   "cell_type": "markdown",
   "metadata": {
    "id": "UpamXiZl9j3S"
   },
   "source": [
    "![inner join.png](data:image/png;base64,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)"
   ]
  },
  {
   "cell_type": "markdown",
   "metadata": {
    "id": "Y0pHhZYb-AAm"
   },
   "source": [
    "**Left Join**: Returns all records from the left table, and the matched records from the right table<br>"
   ]
  },
  {
   "cell_type": "markdown",
   "metadata": {
    "id": "BzzcstwH-ADb"
   },
   "source": [
    "![left.png](data:image/png;base64,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)"
   ]
  },
  {
   "cell_type": "markdown",
   "metadata": {
    "id": "zsL9D5Kc-AGe"
   },
   "source": [
    "**Right Join**: Returns all records from the right table, and the matched records from the left table<br>"
   ]
  },
  {
   "cell_type": "markdown",
   "metadata": {
    "id": "ldK8eGrP-AJX"
   },
   "source": [
    "![right.png](data:image/png;base64,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)"
   ]
  },
  {
   "cell_type": "markdown",
   "metadata": {
    "id": "eAIoKCn1-AMU"
   },
   "source": [
    "**Outer/Full Join**: Returns all records when there is a match in either left or right table"
   ]
  },
  {
   "cell_type": "markdown",
   "metadata": {
    "id": "CycGPtAq-APN"
   },
   "source": [
    "![outer.png](data:image/png;base64,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)"
   ]
  },
  {
   "cell_type": "code",
   "execution_count": 27,
   "metadata": {
    "colab": {
     "base_uri": "https://localhost:8080/",
     "height": 392
    },
    "id": "E6Zcn0KKAFMV",
    "outputId": "4da20351-acd7-4932-9165-bf0ea5128cbd"
   },
   "outputs": [
    {
     "data": {
      "text/html": [
       "<div>\n",
       "<style scoped>\n",
       "    .dataframe tbody tr th:only-of-type {\n",
       "        vertical-align: middle;\n",
       "    }\n",
       "\n",
       "    .dataframe tbody tr th {\n",
       "        vertical-align: top;\n",
       "    }\n",
       "\n",
       "    .dataframe thead th {\n",
       "        text-align: right;\n",
       "    }\n",
       "</style>\n",
       "<table border=\"1\" class=\"dataframe\">\n",
       "  <thead>\n",
       "    <tr style=\"text-align: right;\">\n",
       "      <th></th>\n",
       "      <th>movie id</th>\n",
       "      <th>movie title</th>\n",
       "      <th>release date</th>\n",
       "      <th>Action</th>\n",
       "      <th>Adventure</th>\n",
       "      <th>Animation</th>\n",
       "      <th>Childrens</th>\n",
       "      <th>Comedy</th>\n",
       "      <th>Crime</th>\n",
       "      <th>Documentary</th>\n",
       "      <th>...</th>\n",
       "      <th>Mystery</th>\n",
       "      <th>Romance</th>\n",
       "      <th>Sci-Fi</th>\n",
       "      <th>Thriller</th>\n",
       "      <th>War</th>\n",
       "      <th>Western</th>\n",
       "      <th>Number of Genres</th>\n",
       "      <th>user id</th>\n",
       "      <th>rating</th>\n",
       "      <th>timestamp</th>\n",
       "    </tr>\n",
       "  </thead>\n",
       "  <tbody>\n",
       "    <tr>\n",
       "      <th>0</th>\n",
       "      <td>1</td>\n",
       "      <td>Toy Story</td>\n",
       "      <td>1995-01-01</td>\n",
       "      <td>0</td>\n",
       "      <td>0</td>\n",
       "      <td>1</td>\n",
       "      <td>1</td>\n",
       "      <td>1</td>\n",
       "      <td>0</td>\n",
       "      <td>0</td>\n",
       "      <td>...</td>\n",
       "      <td>0</td>\n",
       "      <td>0</td>\n",
       "      <td>0</td>\n",
       "      <td>0</td>\n",
       "      <td>0</td>\n",
       "      <td>0</td>\n",
       "      <td>3</td>\n",
       "      <td>308</td>\n",
       "      <td>4</td>\n",
       "      <td>887736532</td>\n",
       "    </tr>\n",
       "    <tr>\n",
       "      <th>1</th>\n",
       "      <td>1</td>\n",
       "      <td>Toy Story</td>\n",
       "      <td>1995-01-01</td>\n",
       "      <td>0</td>\n",
       "      <td>0</td>\n",
       "      <td>1</td>\n",
       "      <td>1</td>\n",
       "      <td>1</td>\n",
       "      <td>0</td>\n",
       "      <td>0</td>\n",
       "      <td>...</td>\n",
       "      <td>0</td>\n",
       "      <td>0</td>\n",
       "      <td>0</td>\n",
       "      <td>0</td>\n",
       "      <td>0</td>\n",
       "      <td>0</td>\n",
       "      <td>3</td>\n",
       "      <td>287</td>\n",
       "      <td>5</td>\n",
       "      <td>875334088</td>\n",
       "    </tr>\n",
       "    <tr>\n",
       "      <th>2</th>\n",
       "      <td>1</td>\n",
       "      <td>Toy Story</td>\n",
       "      <td>1995-01-01</td>\n",
       "      <td>0</td>\n",
       "      <td>0</td>\n",
       "      <td>1</td>\n",
       "      <td>1</td>\n",
       "      <td>1</td>\n",
       "      <td>0</td>\n",
       "      <td>0</td>\n",
       "      <td>...</td>\n",
       "      <td>0</td>\n",
       "      <td>0</td>\n",
       "      <td>0</td>\n",
       "      <td>0</td>\n",
       "      <td>0</td>\n",
       "      <td>0</td>\n",
       "      <td>3</td>\n",
       "      <td>148</td>\n",
       "      <td>4</td>\n",
       "      <td>877019411</td>\n",
       "    </tr>\n",
       "    <tr>\n",
       "      <th>3</th>\n",
       "      <td>1</td>\n",
       "      <td>Toy Story</td>\n",
       "      <td>1995-01-01</td>\n",
       "      <td>0</td>\n",
       "      <td>0</td>\n",
       "      <td>1</td>\n",
       "      <td>1</td>\n",
       "      <td>1</td>\n",
       "      <td>0</td>\n",
       "      <td>0</td>\n",
       "      <td>...</td>\n",
       "      <td>0</td>\n",
       "      <td>0</td>\n",
       "      <td>0</td>\n",
       "      <td>0</td>\n",
       "      <td>0</td>\n",
       "      <td>0</td>\n",
       "      <td>3</td>\n",
       "      <td>280</td>\n",
       "      <td>4</td>\n",
       "      <td>891700426</td>\n",
       "    </tr>\n",
       "    <tr>\n",
       "      <th>4</th>\n",
       "      <td>1</td>\n",
       "      <td>Toy Story</td>\n",
       "      <td>1995-01-01</td>\n",
       "      <td>0</td>\n",
       "      <td>0</td>\n",
       "      <td>1</td>\n",
       "      <td>1</td>\n",
       "      <td>1</td>\n",
       "      <td>0</td>\n",
       "      <td>0</td>\n",
       "      <td>...</td>\n",
       "      <td>0</td>\n",
       "      <td>0</td>\n",
       "      <td>0</td>\n",
       "      <td>0</td>\n",
       "      <td>0</td>\n",
       "      <td>0</td>\n",
       "      <td>3</td>\n",
       "      <td>66</td>\n",
       "      <td>3</td>\n",
       "      <td>883601324</td>\n",
       "    </tr>\n",
       "  </tbody>\n",
       "</table>\n",
       "<p>5 rows × 25 columns</p>\n",
       "</div>"
      ],
      "text/plain": [
       "   movie id movie title release date  Action  Adventure  Animation  Childrens  \\\n",
       "0         1  Toy Story    1995-01-01       0          0          1          1   \n",
       "1         1  Toy Story    1995-01-01       0          0          1          1   \n",
       "2         1  Toy Story    1995-01-01       0          0          1          1   \n",
       "3         1  Toy Story    1995-01-01       0          0          1          1   \n",
       "4         1  Toy Story    1995-01-01       0          0          1          1   \n",
       "\n",
       "   Comedy  Crime  Documentary  ...  Mystery  Romance  Sci-Fi  Thriller  War  \\\n",
       "0       1      0            0  ...        0        0       0         0    0   \n",
       "1       1      0            0  ...        0        0       0         0    0   \n",
       "2       1      0            0  ...        0        0       0         0    0   \n",
       "3       1      0            0  ...        0        0       0         0    0   \n",
       "4       1      0            0  ...        0        0       0         0    0   \n",
       "\n",
       "   Western  Number of Genres  user id  rating  timestamp  \n",
       "0        0                 3      308       4  887736532  \n",
       "1        0                 3      287       5  875334088  \n",
       "2        0                 3      148       4  877019411  \n",
       "3        0                 3      280       4  891700426  \n",
       "4        0                 3       66       3  883601324  \n",
       "\n",
       "[5 rows x 25 columns]"
      ]
     },
     "execution_count": 27,
     "metadata": {},
     "output_type": "execute_result"
    }
   ],
   "source": [
    "df_merge = movie.merge(ratings, on = 'movie id', how = 'inner')\n",
    "df_merge.head()"
   ]
  },
  {
   "cell_type": "markdown",
   "metadata": {
    "id": "w7BMLa62CCnY"
   },
   "source": [
    "- *As we can see that the `user id`, `rating`, `timestamp` columns are added at the end of the dataframe*"
   ]
  },
  {
   "cell_type": "markdown",
   "metadata": {
    "id": "CsChuOZhCbY5"
   },
   "source": [
    "In order to find the genres which are most liked by the users, we can find the average ratings of each of the genre and then compare among them.\n",
    "<br>\n",
    "For this we can use the `genres` list"
   ]
  },
  {
   "cell_type": "code",
   "execution_count": 28,
   "metadata": {
    "colab": {
     "base_uri": "https://localhost:8080/"
    },
    "id": "4YGmmItmEVc1",
    "outputId": "dd0dbd87-a9ec-43c4-848b-72c517a39a1f"
   },
   "outputs": [
    {
     "data": {
      "text/plain": [
       "['Action',\n",
       " 'Adventure',\n",
       " 'Animation',\n",
       " 'Childrens',\n",
       " 'Comedy',\n",
       " 'Crime',\n",
       " 'Documentary',\n",
       " 'Drama',\n",
       " 'Fantasy',\n",
       " 'Film-Noir',\n",
       " 'Horror',\n",
       " 'Musical',\n",
       " 'Mystery',\n",
       " 'Romance',\n",
       " 'Sci-Fi',\n",
       " 'Thriller',\n",
       " 'War',\n",
       " 'Western']"
      ]
     },
     "execution_count": 28,
     "metadata": {},
     "output_type": "execute_result"
    }
   ],
   "source": [
    "genres"
   ]
  },
  {
   "cell_type": "markdown",
   "metadata": {
    "id": "RCwHvmgbFYry"
   },
   "source": [
    "We will run a loop across the merged dataframe for the columns that are present in the genres list. Whenever a particular genre is found to be have '1' value in its column, the rating corresponding to that '1' value will be extracted and in this end we will calculate the average value of all this extracted ratings for a particular genre."
   ]
  },
  {
   "cell_type": "code",
   "execution_count": 29,
   "metadata": {
    "colab": {
     "base_uri": "https://localhost:8080/"
    },
    "id": "ZuxXODCAA2fP",
    "outputId": "94ca4adc-fb41-4455-f68b-3a2bb1dc6044"
   },
   "outputs": [
    {
     "name": "stdout",
     "output_type": "stream",
     "text": [
      "Action : 3.480245417953027\n",
      "Adventure : 3.503526503308369\n",
      "Animation : 3.5766990291262135\n",
      "Childrens : 3.3532442216652742\n",
      "Comedy : 3.3940734781442745\n",
      "Crime : 3.6322780881440098\n",
      "Documentary : 3.6728232189973613\n",
      "Drama : 3.6873793708484772\n",
      "Fantasy : 3.2152366863905324\n",
      "Film-Noir : 3.9215233698788228\n",
      "Horror : 3.2903893172841827\n",
      "Musical : 3.521396851029471\n",
      "Mystery : 3.63813155386082\n",
      "Romance : 3.621704948358255\n",
      "Sci-Fi : 3.5607227022780834\n",
      "Thriller : 3.5090069495245064\n",
      "War : 3.815811874866993\n",
      "Western : 3.6132686084142396\n"
     ]
    }
   ],
   "source": [
    "for i in genres:\n",
    "    print(i,':' , df_merge[df_merge[i]==1].rating.mean())"
   ]
  },
  {
   "cell_type": "markdown",
   "metadata": {
    "id": "_KE-x630QDAo"
   },
   "source": [
    "<h1><font size=5>Insights</font></h1>\n"
   ]
  },
  {
   "cell_type": "markdown",
   "metadata": {
    "id": "JZteEeiDFx-c"
   },
   "source": [
    "- *'Film-Noir' genre is having the highest average ratings with an average rating of 3.92 followed by 'War' genre with rating of 3.81*\n",
    "- *'Fantasy' genre is having the lowest average ratings with an average rating of 3.21*\n",
    "- *Among 18 genres, only 5 genres have received a rating below 3.5 which means around 72% of genres are rated above average*"
   ]
  },
  {
   "cell_type": "markdown",
   "metadata": {
    "id": "-WFwDSG_Rx6Y"
   },
   "source": [
    "Till now we have done analyses on the genres and movies and generated some insights."
   ]
  },
  {
   "cell_type": "markdown",
   "metadata": {
    "id": "RImiODmoh4IU"
   },
   "source": [
    "<h1><font size=6>Can we find which movies have been most preferred by the users?</font></h1>"
   ]
  },
  {
   "cell_type": "markdown",
   "metadata": {
    "id": "-YuGtRh_R31w"
   },
   "source": [
    "Let's start by checking the top rated movies by the users. \n",
    "As we already know that `movie` and `ratings` datasets has the information related to the ratings of the movies. <br>\n",
    "Therefore, we can *merge* both the datasets on the basis of common variable that is `movie_id` and get the average ratings for all the movies. Since we have already merged these datasets before, we can call it again to get the values"
   ]
  },
  {
   "cell_type": "code",
   "execution_count": 30,
   "metadata": {
    "colab": {
     "base_uri": "https://localhost:8080/",
     "height": 392
    },
    "id": "05s8DAHTiDT_",
    "outputId": "488fd083-04e0-4637-b157-4dbba3acd9af"
   },
   "outputs": [
    {
     "data": {
      "text/html": [
       "<div>\n",
       "<style scoped>\n",
       "    .dataframe tbody tr th:only-of-type {\n",
       "        vertical-align: middle;\n",
       "    }\n",
       "\n",
       "    .dataframe tbody tr th {\n",
       "        vertical-align: top;\n",
       "    }\n",
       "\n",
       "    .dataframe thead th {\n",
       "        text-align: right;\n",
       "    }\n",
       "</style>\n",
       "<table border=\"1\" class=\"dataframe\">\n",
       "  <thead>\n",
       "    <tr style=\"text-align: right;\">\n",
       "      <th></th>\n",
       "      <th>movie id</th>\n",
       "      <th>movie title</th>\n",
       "      <th>release date</th>\n",
       "      <th>Action</th>\n",
       "      <th>Adventure</th>\n",
       "      <th>Animation</th>\n",
       "      <th>Childrens</th>\n",
       "      <th>Comedy</th>\n",
       "      <th>Crime</th>\n",
       "      <th>Documentary</th>\n",
       "      <th>...</th>\n",
       "      <th>Mystery</th>\n",
       "      <th>Romance</th>\n",
       "      <th>Sci-Fi</th>\n",
       "      <th>Thriller</th>\n",
       "      <th>War</th>\n",
       "      <th>Western</th>\n",
       "      <th>Number of Genres</th>\n",
       "      <th>user id</th>\n",
       "      <th>rating</th>\n",
       "      <th>timestamp</th>\n",
       "    </tr>\n",
       "  </thead>\n",
       "  <tbody>\n",
       "    <tr>\n",
       "      <th>0</th>\n",
       "      <td>1</td>\n",
       "      <td>Toy Story</td>\n",
       "      <td>1995-01-01</td>\n",
       "      <td>0</td>\n",
       "      <td>0</td>\n",
       "      <td>1</td>\n",
       "      <td>1</td>\n",
       "      <td>1</td>\n",
       "      <td>0</td>\n",
       "      <td>0</td>\n",
       "      <td>...</td>\n",
       "      <td>0</td>\n",
       "      <td>0</td>\n",
       "      <td>0</td>\n",
       "      <td>0</td>\n",
       "      <td>0</td>\n",
       "      <td>0</td>\n",
       "      <td>3</td>\n",
       "      <td>308</td>\n",
       "      <td>4</td>\n",
       "      <td>887736532</td>\n",
       "    </tr>\n",
       "    <tr>\n",
       "      <th>1</th>\n",
       "      <td>1</td>\n",
       "      <td>Toy Story</td>\n",
       "      <td>1995-01-01</td>\n",
       "      <td>0</td>\n",
       "      <td>0</td>\n",
       "      <td>1</td>\n",
       "      <td>1</td>\n",
       "      <td>1</td>\n",
       "      <td>0</td>\n",
       "      <td>0</td>\n",
       "      <td>...</td>\n",
       "      <td>0</td>\n",
       "      <td>0</td>\n",
       "      <td>0</td>\n",
       "      <td>0</td>\n",
       "      <td>0</td>\n",
       "      <td>0</td>\n",
       "      <td>3</td>\n",
       "      <td>287</td>\n",
       "      <td>5</td>\n",
       "      <td>875334088</td>\n",
       "    </tr>\n",
       "    <tr>\n",
       "      <th>2</th>\n",
       "      <td>1</td>\n",
       "      <td>Toy Story</td>\n",
       "      <td>1995-01-01</td>\n",
       "      <td>0</td>\n",
       "      <td>0</td>\n",
       "      <td>1</td>\n",
       "      <td>1</td>\n",
       "      <td>1</td>\n",
       "      <td>0</td>\n",
       "      <td>0</td>\n",
       "      <td>...</td>\n",
       "      <td>0</td>\n",
       "      <td>0</td>\n",
       "      <td>0</td>\n",
       "      <td>0</td>\n",
       "      <td>0</td>\n",
       "      <td>0</td>\n",
       "      <td>3</td>\n",
       "      <td>148</td>\n",
       "      <td>4</td>\n",
       "      <td>877019411</td>\n",
       "    </tr>\n",
       "    <tr>\n",
       "      <th>3</th>\n",
       "      <td>1</td>\n",
       "      <td>Toy Story</td>\n",
       "      <td>1995-01-01</td>\n",
       "      <td>0</td>\n",
       "      <td>0</td>\n",
       "      <td>1</td>\n",
       "      <td>1</td>\n",
       "      <td>1</td>\n",
       "      <td>0</td>\n",
       "      <td>0</td>\n",
       "      <td>...</td>\n",
       "      <td>0</td>\n",
       "      <td>0</td>\n",
       "      <td>0</td>\n",
       "      <td>0</td>\n",
       "      <td>0</td>\n",
       "      <td>0</td>\n",
       "      <td>3</td>\n",
       "      <td>280</td>\n",
       "      <td>4</td>\n",
       "      <td>891700426</td>\n",
       "    </tr>\n",
       "    <tr>\n",
       "      <th>4</th>\n",
       "      <td>1</td>\n",
       "      <td>Toy Story</td>\n",
       "      <td>1995-01-01</td>\n",
       "      <td>0</td>\n",
       "      <td>0</td>\n",
       "      <td>1</td>\n",
       "      <td>1</td>\n",
       "      <td>1</td>\n",
       "      <td>0</td>\n",
       "      <td>0</td>\n",
       "      <td>...</td>\n",
       "      <td>0</td>\n",
       "      <td>0</td>\n",
       "      <td>0</td>\n",
       "      <td>0</td>\n",
       "      <td>0</td>\n",
       "      <td>0</td>\n",
       "      <td>3</td>\n",
       "      <td>66</td>\n",
       "      <td>3</td>\n",
       "      <td>883601324</td>\n",
       "    </tr>\n",
       "  </tbody>\n",
       "</table>\n",
       "<p>5 rows × 25 columns</p>\n",
       "</div>"
      ],
      "text/plain": [
       "   movie id movie title release date  Action  Adventure  Animation  Childrens  \\\n",
       "0         1  Toy Story    1995-01-01       0          0          1          1   \n",
       "1         1  Toy Story    1995-01-01       0          0          1          1   \n",
       "2         1  Toy Story    1995-01-01       0          0          1          1   \n",
       "3         1  Toy Story    1995-01-01       0          0          1          1   \n",
       "4         1  Toy Story    1995-01-01       0          0          1          1   \n",
       "\n",
       "   Comedy  Crime  Documentary  ...  Mystery  Romance  Sci-Fi  Thriller  War  \\\n",
       "0       1      0            0  ...        0        0       0         0    0   \n",
       "1       1      0            0  ...        0        0       0         0    0   \n",
       "2       1      0            0  ...        0        0       0         0    0   \n",
       "3       1      0            0  ...        0        0       0         0    0   \n",
       "4       1      0            0  ...        0        0       0         0    0   \n",
       "\n",
       "   Western  Number of Genres  user id  rating  timestamp  \n",
       "0        0                 3      308       4  887736532  \n",
       "1        0                 3      287       5  875334088  \n",
       "2        0                 3      148       4  877019411  \n",
       "3        0                 3      280       4  891700426  \n",
       "4        0                 3       66       3  883601324  \n",
       "\n",
       "[5 rows x 25 columns]"
      ]
     },
     "execution_count": 30,
     "metadata": {},
     "output_type": "execute_result"
    }
   ],
   "source": [
    "df_merge.head()"
   ]
  },
  {
   "cell_type": "markdown",
   "metadata": {
    "id": "yL4PHzJWXV1v"
   },
   "source": [
    "- *The datasets has been merged successfully and the columns has been added at the end of the dataset*"
   ]
  },
  {
   "cell_type": "markdown",
   "metadata": {
    "id": "bTwGARG5iPfU"
   },
   "source": [
    "We can notice that multiple rating has been given to a single movie from different users."
   ]
  },
  {
   "cell_type": "markdown",
   "metadata": {
    "id": "Oq2s6oYfiUTz"
   },
   "source": [
    "**To find out movies preferred by users we need to first get the average ratings of each movie** <br><br> We can perform this by using *group_by* function from Pandas"
   ]
  },
  {
   "cell_type": "markdown",
   "metadata": {
    "id": "ahSBwPJIiWV4"
   },
   "source": [
    "**Groupby Function**<br>\n",
    "Pandas’ *GroupBy* is a powerful and versatile function in Python. It allows you to split your data into separate groups to perform computations for better analysis.*GroupBy* allows us to group our data based on different features and get a more accurate idea about your data."
   ]
  },
  {
   "cell_type": "markdown",
   "metadata": {
    "id": "AOffjdpyiX7d"
   },
   "source": [
    "![overall.png](data:image/png;base64,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)"
   ]
  },
  {
   "cell_type": "markdown",
   "metadata": {
    "id": "ja9Y_MSOiZ21"
   },
   "source": [
    "Now let's apply the groupby function to our datasets:"
   ]
  },
  {
   "cell_type": "code",
   "execution_count": 31,
   "metadata": {
    "colab": {
     "base_uri": "https://localhost:8080/",
     "height": 424
    },
    "id": "VQ0qgKS6ib-B",
    "outputId": "2fd88432-7458-46ad-82e2-633ee65606f3"
   },
   "outputs": [
    {
     "data": {
      "text/html": [
       "<div>\n",
       "<style scoped>\n",
       "    .dataframe tbody tr th:only-of-type {\n",
       "        vertical-align: middle;\n",
       "    }\n",
       "\n",
       "    .dataframe tbody tr th {\n",
       "        vertical-align: top;\n",
       "    }\n",
       "\n",
       "    .dataframe thead th {\n",
       "        text-align: right;\n",
       "    }\n",
       "</style>\n",
       "<table border=\"1\" class=\"dataframe\">\n",
       "  <thead>\n",
       "    <tr style=\"text-align: right;\">\n",
       "      <th></th>\n",
       "      <th>movie title</th>\n",
       "      <th>rating</th>\n",
       "    </tr>\n",
       "  </thead>\n",
       "  <tbody>\n",
       "    <tr>\n",
       "      <th>0</th>\n",
       "      <td>'Til There Was You</td>\n",
       "      <td>2.333333</td>\n",
       "    </tr>\n",
       "    <tr>\n",
       "      <th>1</th>\n",
       "      <td>1-900</td>\n",
       "      <td>2.600000</td>\n",
       "    </tr>\n",
       "    <tr>\n",
       "      <th>2</th>\n",
       "      <td>101 Dalmatians</td>\n",
       "      <td>2.908257</td>\n",
       "    </tr>\n",
       "    <tr>\n",
       "      <th>3</th>\n",
       "      <td>12 Angry Men</td>\n",
       "      <td>4.344000</td>\n",
       "    </tr>\n",
       "    <tr>\n",
       "      <th>4</th>\n",
       "      <td>187</td>\n",
       "      <td>3.024390</td>\n",
       "    </tr>\n",
       "    <tr>\n",
       "      <th>...</th>\n",
       "      <td>...</td>\n",
       "      <td>...</td>\n",
       "    </tr>\n",
       "    <tr>\n",
       "      <th>1652</th>\n",
       "      <td>Young Guns</td>\n",
       "      <td>3.207921</td>\n",
       "    </tr>\n",
       "    <tr>\n",
       "      <th>1653</th>\n",
       "      <td>Young Guns II</td>\n",
       "      <td>2.772727</td>\n",
       "    </tr>\n",
       "    <tr>\n",
       "      <th>1654</th>\n",
       "      <td>Young Poisoner's Handbook, The</td>\n",
       "      <td>3.341463</td>\n",
       "    </tr>\n",
       "    <tr>\n",
       "      <th>1655</th>\n",
       "      <td>Zeus and Roxanne</td>\n",
       "      <td>2.166667</td>\n",
       "    </tr>\n",
       "    <tr>\n",
       "      <th>1656</th>\n",
       "      <td>Á köldum klaka (Cold Fever)</td>\n",
       "      <td>3.000000</td>\n",
       "    </tr>\n",
       "  </tbody>\n",
       "</table>\n",
       "<p>1657 rows × 2 columns</p>\n",
       "</div>"
      ],
      "text/plain": [
       "                          movie title    rating\n",
       "0                 'Til There Was You   2.333333\n",
       "1                              1-900   2.600000\n",
       "2                     101 Dalmatians   2.908257\n",
       "3                       12 Angry Men   4.344000\n",
       "4                                 187  3.024390\n",
       "...                               ...       ...\n",
       "1652                      Young Guns   3.207921\n",
       "1653                   Young Guns II   2.772727\n",
       "1654  Young Poisoner's Handbook, The   3.341463\n",
       "1655                Zeus and Roxanne   2.166667\n",
       "1656     Á köldum klaka (Cold Fever)   3.000000\n",
       "\n",
       "[1657 rows x 2 columns]"
      ]
     },
     "execution_count": 31,
     "metadata": {},
     "output_type": "execute_result"
    }
   ],
   "source": [
    "avg_rating = df_merge.groupby(['movie title']).mean()[['rating']].reset_index() # 'reset_index' restablecerá el índice del dataframe a la indexación predeterminada (0 al número de filas menos 1)\n",
    "avg_rating"
   ]
  },
  {
   "cell_type": "markdown",
   "metadata": {
    "id": "WQmprlbvidYW"
   },
   "source": [
    "*This displays the average rating for all the movies.* <br><br>\n",
    "Let's rename the `rating` column to `Avg_rating` for better understanding \n",
    "\n"
   ]
  },
  {
   "cell_type": "code",
   "execution_count": 32,
   "metadata": {
    "colab": {
     "base_uri": "https://localhost:8080/",
     "height": 206
    },
    "id": "JPMB0uk_YRhX",
    "outputId": "9ca4978c-7e35-498e-9cd4-9f4b72f04b14"
   },
   "outputs": [
    {
     "data": {
      "text/html": [
       "<div>\n",
       "<style scoped>\n",
       "    .dataframe tbody tr th:only-of-type {\n",
       "        vertical-align: middle;\n",
       "    }\n",
       "\n",
       "    .dataframe tbody tr th {\n",
       "        vertical-align: top;\n",
       "    }\n",
       "\n",
       "    .dataframe thead th {\n",
       "        text-align: right;\n",
       "    }\n",
       "</style>\n",
       "<table border=\"1\" class=\"dataframe\">\n",
       "  <thead>\n",
       "    <tr style=\"text-align: right;\">\n",
       "      <th></th>\n",
       "      <th>movie title</th>\n",
       "      <th>Avg_rating</th>\n",
       "    </tr>\n",
       "  </thead>\n",
       "  <tbody>\n",
       "    <tr>\n",
       "      <th>0</th>\n",
       "      <td>'Til There Was You</td>\n",
       "      <td>2.333333</td>\n",
       "    </tr>\n",
       "    <tr>\n",
       "      <th>1</th>\n",
       "      <td>1-900</td>\n",
       "      <td>2.600000</td>\n",
       "    </tr>\n",
       "    <tr>\n",
       "      <th>2</th>\n",
       "      <td>101 Dalmatians</td>\n",
       "      <td>2.908257</td>\n",
       "    </tr>\n",
       "    <tr>\n",
       "      <th>3</th>\n",
       "      <td>12 Angry Men</td>\n",
       "      <td>4.344000</td>\n",
       "    </tr>\n",
       "    <tr>\n",
       "      <th>4</th>\n",
       "      <td>187</td>\n",
       "      <td>3.024390</td>\n",
       "    </tr>\n",
       "  </tbody>\n",
       "</table>\n",
       "</div>"
      ],
      "text/plain": [
       "           movie title  Avg_rating\n",
       "0  'Til There Was You     2.333333\n",
       "1               1-900     2.600000\n",
       "2      101 Dalmatians     2.908257\n",
       "3        12 Angry Men     4.344000\n",
       "4                  187    3.024390"
      ]
     },
     "execution_count": 32,
     "metadata": {},
     "output_type": "execute_result"
    }
   ],
   "source": [
    "avg_rating.rename(columns={'rating':'Avg_rating'},inplace=True)\n",
    "avg_rating.head()"
   ]
  },
  {
   "cell_type": "markdown",
   "metadata": {
    "id": "wD9WRwMPYR2Z"
   },
   "source": [
    "We can also sort them in a descending or ascending order by using *sort_values* function\n",
    "<br>**Let's check the movies with highest average ratings**"
   ]
  },
  {
   "cell_type": "code",
   "execution_count": 33,
   "metadata": {
    "colab": {
     "base_uri": "https://localhost:8080/",
     "height": 424
    },
    "id": "37-uwGeDigHv",
    "outputId": "4133f195-e79f-46d1-cdec-424e829948b2"
   },
   "outputs": [
    {
     "data": {
      "text/html": [
       "<div>\n",
       "<style scoped>\n",
       "    .dataframe tbody tr th:only-of-type {\n",
       "        vertical-align: middle;\n",
       "    }\n",
       "\n",
       "    .dataframe tbody tr th {\n",
       "        vertical-align: top;\n",
       "    }\n",
       "\n",
       "    .dataframe thead th {\n",
       "        text-align: right;\n",
       "    }\n",
       "</style>\n",
       "<table border=\"1\" class=\"dataframe\">\n",
       "  <thead>\n",
       "    <tr style=\"text-align: right;\">\n",
       "      <th></th>\n",
       "      <th>movie title</th>\n",
       "      <th>Avg_rating</th>\n",
       "    </tr>\n",
       "  </thead>\n",
       "  <tbody>\n",
       "    <tr>\n",
       "      <th>631</th>\n",
       "      <td>Great Day in Harlem, A</td>\n",
       "      <td>5.0</td>\n",
       "    </tr>\n",
       "    <tr>\n",
       "      <th>1170</th>\n",
       "      <td>Prefontaine</td>\n",
       "      <td>5.0</td>\n",
       "    </tr>\n",
       "    <tr>\n",
       "      <th>1354</th>\n",
       "      <td>Someone Else's America</td>\n",
       "      <td>5.0</td>\n",
       "    </tr>\n",
       "    <tr>\n",
       "      <th>461</th>\n",
       "      <td>Entertaining Angels: The Dorothy Day Story</td>\n",
       "      <td>5.0</td>\n",
       "    </tr>\n",
       "    <tr>\n",
       "      <th>942</th>\n",
       "      <td>Marlene Dietrich: Shadow and Light (</td>\n",
       "      <td>5.0</td>\n",
       "    </tr>\n",
       "    <tr>\n",
       "      <th>...</th>\n",
       "      <td>...</td>\n",
       "      <td>...</td>\n",
       "    </tr>\n",
       "    <tr>\n",
       "      <th>111</th>\n",
       "      <td>Babyfever</td>\n",
       "      <td>1.0</td>\n",
       "    </tr>\n",
       "    <tr>\n",
       "      <th>834</th>\n",
       "      <td>Lashou shentan</td>\n",
       "      <td>1.0</td>\n",
       "    </tr>\n",
       "    <tr>\n",
       "      <th>1307</th>\n",
       "      <td>Shadows (Cienie)</td>\n",
       "      <td>1.0</td>\n",
       "    </tr>\n",
       "    <tr>\n",
       "      <th>1304</th>\n",
       "      <td>Shadow of Angels (Schatten der Engel)</td>\n",
       "      <td>1.0</td>\n",
       "    </tr>\n",
       "    <tr>\n",
       "      <th>1168</th>\n",
       "      <td>Power 98</td>\n",
       "      <td>1.0</td>\n",
       "    </tr>\n",
       "  </tbody>\n",
       "</table>\n",
       "<p>1657 rows × 2 columns</p>\n",
       "</div>"
      ],
      "text/plain": [
       "                                      movie title  Avg_rating\n",
       "631                       Great Day in Harlem, A          5.0\n",
       "1170                                 Prefontaine          5.0\n",
       "1354                      Someone Else's America          5.0\n",
       "461   Entertaining Angels: The Dorothy Day Story          5.0\n",
       "942          Marlene Dietrich: Shadow and Light (         5.0\n",
       "...                                           ...         ...\n",
       "111                                    Babyfever          1.0\n",
       "834                               Lashou shentan          1.0\n",
       "1307                            Shadows (Cienie)          1.0\n",
       "1304       Shadow of Angels (Schatten der Engel)          1.0\n",
       "1168                                    Power 98          1.0\n",
       "\n",
       "[1657 rows x 2 columns]"
      ]
     },
     "execution_count": 33,
     "metadata": {},
     "output_type": "execute_result"
    }
   ],
   "source": [
    "avg_rating.sort_values(ascending=False, by= 'Avg_rating')"
   ]
  },
  {
   "cell_type": "code",
   "execution_count": 34,
   "metadata": {
    "colab": {
     "base_uri": "https://localhost:8080/",
     "height": 363
    },
    "id": "yxGpIUEBVNHH",
    "outputId": "229eb923-55cc-4350-8119-c546697a90a7"
   },
   "outputs": [
    {
     "data": {
      "text/html": [
       "<div>\n",
       "<style scoped>\n",
       "    .dataframe tbody tr th:only-of-type {\n",
       "        vertical-align: middle;\n",
       "    }\n",
       "\n",
       "    .dataframe tbody tr th {\n",
       "        vertical-align: top;\n",
       "    }\n",
       "\n",
       "    .dataframe thead th {\n",
       "        text-align: right;\n",
       "    }\n",
       "</style>\n",
       "<table border=\"1\" class=\"dataframe\">\n",
       "  <thead>\n",
       "    <tr style=\"text-align: right;\">\n",
       "      <th></th>\n",
       "      <th>movie title</th>\n",
       "      <th>Avg_rating</th>\n",
       "    </tr>\n",
       "  </thead>\n",
       "  <tbody>\n",
       "    <tr>\n",
       "      <th>30</th>\n",
       "      <td>Aiqing wansui</td>\n",
       "      <td>5.0</td>\n",
       "    </tr>\n",
       "    <tr>\n",
       "      <th>461</th>\n",
       "      <td>Entertaining Angels: The Dorothy Day Story</td>\n",
       "      <td>5.0</td>\n",
       "    </tr>\n",
       "    <tr>\n",
       "      <th>631</th>\n",
       "      <td>Great Day in Harlem, A</td>\n",
       "      <td>5.0</td>\n",
       "    </tr>\n",
       "    <tr>\n",
       "      <th>942</th>\n",
       "      <td>Marlene Dietrich: Shadow and Light (</td>\n",
       "      <td>5.0</td>\n",
       "    </tr>\n",
       "    <tr>\n",
       "      <th>1170</th>\n",
       "      <td>Prefontaine</td>\n",
       "      <td>5.0</td>\n",
       "    </tr>\n",
       "    <tr>\n",
       "      <th>1270</th>\n",
       "      <td>Saint of Fort Washington, The</td>\n",
       "      <td>5.0</td>\n",
       "    </tr>\n",
       "    <tr>\n",
       "      <th>1274</th>\n",
       "      <td>Santa with Muscles</td>\n",
       "      <td>5.0</td>\n",
       "    </tr>\n",
       "    <tr>\n",
       "      <th>1354</th>\n",
       "      <td>Someone Else's America</td>\n",
       "      <td>5.0</td>\n",
       "    </tr>\n",
       "    <tr>\n",
       "      <th>1382</th>\n",
       "      <td>Star Kid</td>\n",
       "      <td>5.0</td>\n",
       "    </tr>\n",
       "    <tr>\n",
       "      <th>1466</th>\n",
       "      <td>They Made Me a Criminal</td>\n",
       "      <td>5.0</td>\n",
       "    </tr>\n",
       "  </tbody>\n",
       "</table>\n",
       "</div>"
      ],
      "text/plain": [
       "                                      movie title  Avg_rating\n",
       "30                                 Aiqing wansui          5.0\n",
       "461   Entertaining Angels: The Dorothy Day Story          5.0\n",
       "631                       Great Day in Harlem, A          5.0\n",
       "942          Marlene Dietrich: Shadow and Light (         5.0\n",
       "1170                                 Prefontaine          5.0\n",
       "1270               Saint of Fort Washington, The          5.0\n",
       "1274                          Santa with Muscles          5.0\n",
       "1354                      Someone Else's America          5.0\n",
       "1382                                    Star Kid          5.0\n",
       "1466                     They Made Me a Criminal          5.0"
      ]
     },
     "execution_count": 34,
     "metadata": {},
     "output_type": "execute_result"
    }
   ],
   "source": [
    "avg_rating[avg_rating['Avg_rating']==5] #it will subset the data as per the specified condition"
   ]
  },
  {
   "cell_type": "markdown",
   "metadata": {
    "id": "etw62VZqU7Qg"
   },
   "source": [
    "<h1><font size=5>Insights</font></h1>\n"
   ]
  },
  {
   "cell_type": "markdown",
   "metadata": {
    "id": "22xNhDrEX9JG"
   },
   "source": [
    "- *We can observe movies like **Great Day in Harlem, A, Prefontaine** etc are top rated movies* \n",
    "- *Movies like **Shadow of Angels (Schatten der Engel), Power 98**, etc are least rated*\n",
    "- *There are 10 movies which have been rated as 5.0*"
   ]
  },
  {
   "cell_type": "markdown",
   "metadata": {
    "id": "GGEqP5giijZt"
   },
   "source": [
    "But we know there are movies which are rated more than once by different users, and hence this may affect the overall rating of the movie."
   ]
  },
  {
   "cell_type": "markdown",
   "metadata": {
    "id": "8JYcvvcLYTV1"
   },
   "source": [
    "<h1><font size=6>So can we find which movies are rated most of the times?</font></h1>"
   ]
  },
  {
   "cell_type": "markdown",
   "metadata": {
    "id": "feHrURA0Yham"
   },
   "source": [
    "Let's create a variable which contains the movies with their ratings count"
   ]
  },
  {
   "cell_type": "code",
   "execution_count": 35,
   "metadata": {
    "colab": {
     "base_uri": "https://localhost:8080/",
     "height": 424
    },
    "id": "i19_lkVWikz_",
    "outputId": "a319c06b-4f36-4537-f3e1-3f80d9fd3b6a"
   },
   "outputs": [
    {
     "data": {
      "text/html": [
       "<div>\n",
       "<style scoped>\n",
       "    .dataframe tbody tr th:only-of-type {\n",
       "        vertical-align: middle;\n",
       "    }\n",
       "\n",
       "    .dataframe tbody tr th {\n",
       "        vertical-align: top;\n",
       "    }\n",
       "\n",
       "    .dataframe thead th {\n",
       "        text-align: right;\n",
       "    }\n",
       "</style>\n",
       "<table border=\"1\" class=\"dataframe\">\n",
       "  <thead>\n",
       "    <tr style=\"text-align: right;\">\n",
       "      <th></th>\n",
       "      <th>movie title</th>\n",
       "      <th>rating</th>\n",
       "    </tr>\n",
       "  </thead>\n",
       "  <tbody>\n",
       "    <tr>\n",
       "      <th>0</th>\n",
       "      <td>'Til There Was You</td>\n",
       "      <td>9</td>\n",
       "    </tr>\n",
       "    <tr>\n",
       "      <th>1</th>\n",
       "      <td>1-900</td>\n",
       "      <td>5</td>\n",
       "    </tr>\n",
       "    <tr>\n",
       "      <th>2</th>\n",
       "      <td>101 Dalmatians</td>\n",
       "      <td>109</td>\n",
       "    </tr>\n",
       "    <tr>\n",
       "      <th>3</th>\n",
       "      <td>12 Angry Men</td>\n",
       "      <td>125</td>\n",
       "    </tr>\n",
       "    <tr>\n",
       "      <th>4</th>\n",
       "      <td>187</td>\n",
       "      <td>41</td>\n",
       "    </tr>\n",
       "    <tr>\n",
       "      <th>...</th>\n",
       "      <td>...</td>\n",
       "      <td>...</td>\n",
       "    </tr>\n",
       "    <tr>\n",
       "      <th>1652</th>\n",
       "      <td>Young Guns</td>\n",
       "      <td>101</td>\n",
       "    </tr>\n",
       "    <tr>\n",
       "      <th>1653</th>\n",
       "      <td>Young Guns II</td>\n",
       "      <td>44</td>\n",
       "    </tr>\n",
       "    <tr>\n",
       "      <th>1654</th>\n",
       "      <td>Young Poisoner's Handbook, The</td>\n",
       "      <td>41</td>\n",
       "    </tr>\n",
       "    <tr>\n",
       "      <th>1655</th>\n",
       "      <td>Zeus and Roxanne</td>\n",
       "      <td>6</td>\n",
       "    </tr>\n",
       "    <tr>\n",
       "      <th>1656</th>\n",
       "      <td>Á köldum klaka (Cold Fever)</td>\n",
       "      <td>1</td>\n",
       "    </tr>\n",
       "  </tbody>\n",
       "</table>\n",
       "<p>1657 rows × 2 columns</p>\n",
       "</div>"
      ],
      "text/plain": [
       "                          movie title  rating\n",
       "0                 'Til There Was You        9\n",
       "1                              1-900        5\n",
       "2                     101 Dalmatians      109\n",
       "3                       12 Angry Men      125\n",
       "4                                 187      41\n",
       "...                               ...     ...\n",
       "1652                      Young Guns      101\n",
       "1653                   Young Guns II       44\n",
       "1654  Young Poisoner's Handbook, The       41\n",
       "1655                Zeus and Roxanne        6\n",
       "1656     Á köldum klaka (Cold Fever)        1\n",
       "\n",
       "[1657 rows x 2 columns]"
      ]
     },
     "execution_count": 35,
     "metadata": {},
     "output_type": "execute_result"
    }
   ],
   "source": [
    "movie_count = df_merge.groupby(['movie title'])['rating'].count().reset_index()\n",
    "movie_count"
   ]
  },
  {
   "cell_type": "markdown",
   "metadata": {
    "id": "sdP7AXPsimqG"
   },
   "source": [
    "We can again rename the `rating` column to `Rating_counts` and sort them in descending order to display highest to lowest count of ratings"
   ]
  },
  {
   "cell_type": "code",
   "execution_count": 36,
   "metadata": {
    "colab": {
     "base_uri": "https://localhost:8080/",
     "height": 206
    },
    "id": "QMMbhF0vZE7f",
    "outputId": "29381a61-f029-490e-b2c3-9829ddf682f4"
   },
   "outputs": [
    {
     "data": {
      "text/html": [
       "<div>\n",
       "<style scoped>\n",
       "    .dataframe tbody tr th:only-of-type {\n",
       "        vertical-align: middle;\n",
       "    }\n",
       "\n",
       "    .dataframe tbody tr th {\n",
       "        vertical-align: top;\n",
       "    }\n",
       "\n",
       "    .dataframe thead th {\n",
       "        text-align: right;\n",
       "    }\n",
       "</style>\n",
       "<table border=\"1\" class=\"dataframe\">\n",
       "  <thead>\n",
       "    <tr style=\"text-align: right;\">\n",
       "      <th></th>\n",
       "      <th>movie title</th>\n",
       "      <th>Rating_counts</th>\n",
       "    </tr>\n",
       "  </thead>\n",
       "  <tbody>\n",
       "    <tr>\n",
       "      <th>0</th>\n",
       "      <td>'Til There Was You</td>\n",
       "      <td>9</td>\n",
       "    </tr>\n",
       "    <tr>\n",
       "      <th>1</th>\n",
       "      <td>1-900</td>\n",
       "      <td>5</td>\n",
       "    </tr>\n",
       "    <tr>\n",
       "      <th>2</th>\n",
       "      <td>101 Dalmatians</td>\n",
       "      <td>109</td>\n",
       "    </tr>\n",
       "    <tr>\n",
       "      <th>3</th>\n",
       "      <td>12 Angry Men</td>\n",
       "      <td>125</td>\n",
       "    </tr>\n",
       "    <tr>\n",
       "      <th>4</th>\n",
       "      <td>187</td>\n",
       "      <td>41</td>\n",
       "    </tr>\n",
       "  </tbody>\n",
       "</table>\n",
       "</div>"
      ],
      "text/plain": [
       "           movie title  Rating_counts\n",
       "0  'Til There Was You               9\n",
       "1               1-900               5\n",
       "2      101 Dalmatians             109\n",
       "3        12 Angry Men             125\n",
       "4                  187             41"
      ]
     },
     "execution_count": 36,
     "metadata": {},
     "output_type": "execute_result"
    }
   ],
   "source": [
    "movie_count.rename(columns={'rating':'Rating_counts'},inplace=True)\n",
    "movie_count.head()"
   ]
  },
  {
   "cell_type": "code",
   "execution_count": 37,
   "metadata": {
    "colab": {
     "base_uri": "https://localhost:8080/",
     "height": 424
    },
    "id": "0Obg-5QMioNI",
    "outputId": "20c7ca6a-2ede-4d87-ed57-2074111be2f8"
   },
   "outputs": [
    {
     "data": {
      "text/html": [
       "<div>\n",
       "<style scoped>\n",
       "    .dataframe tbody tr th:only-of-type {\n",
       "        vertical-align: middle;\n",
       "    }\n",
       "\n",
       "    .dataframe tbody tr th {\n",
       "        vertical-align: top;\n",
       "    }\n",
       "\n",
       "    .dataframe thead th {\n",
       "        text-align: right;\n",
       "    }\n",
       "</style>\n",
       "<table border=\"1\" class=\"dataframe\">\n",
       "  <thead>\n",
       "    <tr style=\"text-align: right;\">\n",
       "      <th></th>\n",
       "      <th>movie title</th>\n",
       "      <th>Rating_counts</th>\n",
       "    </tr>\n",
       "  </thead>\n",
       "  <tbody>\n",
       "    <tr>\n",
       "      <th>1393</th>\n",
       "      <td>Star Wars</td>\n",
       "      <td>583</td>\n",
       "    </tr>\n",
       "    <tr>\n",
       "      <th>332</th>\n",
       "      <td>Contact</td>\n",
       "      <td>509</td>\n",
       "    </tr>\n",
       "    <tr>\n",
       "      <th>497</th>\n",
       "      <td>Fargo</td>\n",
       "      <td>508</td>\n",
       "    </tr>\n",
       "    <tr>\n",
       "      <th>1232</th>\n",
       "      <td>Return of the Jedi</td>\n",
       "      <td>507</td>\n",
       "    </tr>\n",
       "    <tr>\n",
       "      <th>858</th>\n",
       "      <td>Liar Liar</td>\n",
       "      <td>485</td>\n",
       "    </tr>\n",
       "    <tr>\n",
       "      <th>...</th>\n",
       "      <td>...</td>\n",
       "      <td>...</td>\n",
       "    </tr>\n",
       "    <tr>\n",
       "      <th>1085</th>\n",
       "      <td>Object of My Affection, The</td>\n",
       "      <td>1</td>\n",
       "    </tr>\n",
       "    <tr>\n",
       "      <th>1088</th>\n",
       "      <td>Office Killer</td>\n",
       "      <td>1</td>\n",
       "    </tr>\n",
       "    <tr>\n",
       "      <th>1109</th>\n",
       "      <td>Other Voices, Other Rooms</td>\n",
       "      <td>1</td>\n",
       "    </tr>\n",
       "    <tr>\n",
       "      <th>1123</th>\n",
       "      <td>Paris Was a Woman</td>\n",
       "      <td>1</td>\n",
       "    </tr>\n",
       "    <tr>\n",
       "      <th>1656</th>\n",
       "      <td>Á köldum klaka (Cold Fever)</td>\n",
       "      <td>1</td>\n",
       "    </tr>\n",
       "  </tbody>\n",
       "</table>\n",
       "<p>1657 rows × 2 columns</p>\n",
       "</div>"
      ],
      "text/plain": [
       "                       movie title  Rating_counts\n",
       "1393                    Star Wars             583\n",
       "332                       Contact             509\n",
       "497                         Fargo             508\n",
       "1232           Return of the Jedi             507\n",
       "858                     Liar Liar             485\n",
       "...                            ...            ...\n",
       "1085  Object of My Affection, The               1\n",
       "1088                Office Killer               1\n",
       "1109    Other Voices, Other Rooms               1\n",
       "1123            Paris Was a Woman               1\n",
       "1656  Á köldum klaka (Cold Fever)               1\n",
       "\n",
       "[1657 rows x 2 columns]"
      ]
     },
     "execution_count": 37,
     "metadata": {},
     "output_type": "execute_result"
    }
   ],
   "source": [
    "movie_count.sort_values(ascending=False, by= 'Rating_counts')"
   ]
  },
  {
   "cell_type": "markdown",
   "metadata": {
    "id": "i7CGkzyiipvX"
   },
   "source": [
    "- *We can observe that **Star Wars** has been rated most number of times (**583 times**) and there are few movies which have least rating counts like **Paris Was a Woman\t,Á köldum klaka (Cold Fever)**.* "
   ]
  },
  {
   "cell_type": "markdown",
   "metadata": {
    "id": "oNyCkn4KirBJ"
   },
   "source": [
    "There are other movies which are mostly rated by users, so let's check movies which are rated more than 100 times"
   ]
  },
  {
   "cell_type": "code",
   "execution_count": 38,
   "metadata": {
    "colab": {
     "base_uri": "https://localhost:8080/",
     "height": 424
    },
    "id": "OA7q2Uv2isVN",
    "outputId": "0947221c-9c20-4be8-ffa9-453443f141a0"
   },
   "outputs": [
    {
     "data": {
      "text/html": [
       "<div>\n",
       "<style scoped>\n",
       "    .dataframe tbody tr th:only-of-type {\n",
       "        vertical-align: middle;\n",
       "    }\n",
       "\n",
       "    .dataframe tbody tr th {\n",
       "        vertical-align: top;\n",
       "    }\n",
       "\n",
       "    .dataframe thead th {\n",
       "        text-align: right;\n",
       "    }\n",
       "</style>\n",
       "<table border=\"1\" class=\"dataframe\">\n",
       "  <thead>\n",
       "    <tr style=\"text-align: right;\">\n",
       "      <th></th>\n",
       "      <th>movie title</th>\n",
       "      <th>Rating_counts</th>\n",
       "    </tr>\n",
       "  </thead>\n",
       "  <tbody>\n",
       "    <tr>\n",
       "      <th>2</th>\n",
       "      <td>101 Dalmatians</td>\n",
       "      <td>109</td>\n",
       "    </tr>\n",
       "    <tr>\n",
       "      <th>3</th>\n",
       "      <td>12 Angry Men</td>\n",
       "      <td>125</td>\n",
       "    </tr>\n",
       "    <tr>\n",
       "      <th>7</th>\n",
       "      <td>2001: A Space Odyssey</td>\n",
       "      <td>259</td>\n",
       "    </tr>\n",
       "    <tr>\n",
       "      <th>15</th>\n",
       "      <td>Absolute Power</td>\n",
       "      <td>127</td>\n",
       "    </tr>\n",
       "    <tr>\n",
       "      <th>16</th>\n",
       "      <td>Abyss, The</td>\n",
       "      <td>151</td>\n",
       "    </tr>\n",
       "    <tr>\n",
       "      <th>...</th>\n",
       "      <td>...</td>\n",
       "      <td>...</td>\n",
       "    </tr>\n",
       "    <tr>\n",
       "      <th>1627</th>\n",
       "      <td>Willy Wonka and the Chocolate Factory</td>\n",
       "      <td>326</td>\n",
       "    </tr>\n",
       "    <tr>\n",
       "      <th>1638</th>\n",
       "      <td>Wizard of Oz, The</td>\n",
       "      <td>246</td>\n",
       "    </tr>\n",
       "    <tr>\n",
       "      <th>1646</th>\n",
       "      <td>Wrong Trousers, The</td>\n",
       "      <td>118</td>\n",
       "    </tr>\n",
       "    <tr>\n",
       "      <th>1651</th>\n",
       "      <td>Young Frankenstein</td>\n",
       "      <td>200</td>\n",
       "    </tr>\n",
       "    <tr>\n",
       "      <th>1652</th>\n",
       "      <td>Young Guns</td>\n",
       "      <td>101</td>\n",
       "    </tr>\n",
       "  </tbody>\n",
       "</table>\n",
       "<p>334 rows × 2 columns</p>\n",
       "</div>"
      ],
      "text/plain": [
       "                                 movie title  Rating_counts\n",
       "2                            101 Dalmatians             109\n",
       "3                              12 Angry Men             125\n",
       "7                     2001: A Space Odyssey             259\n",
       "15                           Absolute Power             127\n",
       "16                               Abyss, The             151\n",
       "...                                      ...            ...\n",
       "1627  Willy Wonka and the Chocolate Factory             326\n",
       "1638                      Wizard of Oz, The             246\n",
       "1646                    Wrong Trousers, The             118\n",
       "1651                     Young Frankenstein             200\n",
       "1652                             Young Guns             101\n",
       "\n",
       "[334 rows x 2 columns]"
      ]
     },
     "execution_count": 38,
     "metadata": {},
     "output_type": "execute_result"
    }
   ],
   "source": [
    "movie_100 = movie_count[movie_count['Rating_counts']>100] #this will subset the dataset 'movie_count' as per the specified condition\n",
    "movie_100"
   ]
  },
  {
   "cell_type": "markdown",
   "metadata": {
    "id": "BIzAfkRkiuC6"
   },
   "source": [
    "*There are 334 movies which are rated more than 100 times by the users*"
   ]
  },
  {
   "cell_type": "markdown",
   "metadata": {
    "id": "f0cJkr4fivpL"
   },
   "source": [
    "Among these movies, let's find out **which movies has been top rated by customers** so that we can know what kind of movies are preferred by users mostly"
   ]
  },
  {
   "cell_type": "code",
   "execution_count": 39,
   "metadata": {
    "colab": {
     "base_uri": "https://localhost:8080/",
     "height": 206
    },
    "id": "6w9SAKCniw45",
    "outputId": "2a34147f-2ccb-426b-9bc6-44307321c535"
   },
   "outputs": [
    {
     "data": {
      "text/html": [
       "<div>\n",
       "<style scoped>\n",
       "    .dataframe tbody tr th:only-of-type {\n",
       "        vertical-align: middle;\n",
       "    }\n",
       "\n",
       "    .dataframe tbody tr th {\n",
       "        vertical-align: top;\n",
       "    }\n",
       "\n",
       "    .dataframe thead th {\n",
       "        text-align: right;\n",
       "    }\n",
       "</style>\n",
       "<table border=\"1\" class=\"dataframe\">\n",
       "  <thead>\n",
       "    <tr style=\"text-align: right;\">\n",
       "      <th></th>\n",
       "      <th>movie title</th>\n",
       "      <th>Avg_rating</th>\n",
       "    </tr>\n",
       "  </thead>\n",
       "  <tbody>\n",
       "    <tr>\n",
       "      <th>0</th>\n",
       "      <td>'Til There Was You</td>\n",
       "      <td>2.333333</td>\n",
       "    </tr>\n",
       "    <tr>\n",
       "      <th>1</th>\n",
       "      <td>1-900</td>\n",
       "      <td>2.600000</td>\n",
       "    </tr>\n",
       "    <tr>\n",
       "      <th>2</th>\n",
       "      <td>101 Dalmatians</td>\n",
       "      <td>2.908257</td>\n",
       "    </tr>\n",
       "    <tr>\n",
       "      <th>3</th>\n",
       "      <td>12 Angry Men</td>\n",
       "      <td>4.344000</td>\n",
       "    </tr>\n",
       "    <tr>\n",
       "      <th>4</th>\n",
       "      <td>187</td>\n",
       "      <td>3.024390</td>\n",
       "    </tr>\n",
       "  </tbody>\n",
       "</table>\n",
       "</div>"
      ],
      "text/plain": [
       "           movie title  Avg_rating\n",
       "0  'Til There Was You     2.333333\n",
       "1               1-900     2.600000\n",
       "2      101 Dalmatians     2.908257\n",
       "3        12 Angry Men     4.344000\n",
       "4                  187    3.024390"
      ]
     },
     "execution_count": 39,
     "metadata": {},
     "output_type": "execute_result"
    }
   ],
   "source": [
    "avg_rating.head()"
   ]
  },
  {
   "cell_type": "code",
   "execution_count": 40,
   "metadata": {
    "colab": {
     "base_uri": "https://localhost:8080/",
     "height": 206
    },
    "id": "wDWFXm1ziyau",
    "outputId": "8b3c4f04-3c6c-4057-d4ab-526696975f8e"
   },
   "outputs": [
    {
     "data": {
      "text/html": [
       "<div>\n",
       "<style scoped>\n",
       "    .dataframe tbody tr th:only-of-type {\n",
       "        vertical-align: middle;\n",
       "    }\n",
       "\n",
       "    .dataframe tbody tr th {\n",
       "        vertical-align: top;\n",
       "    }\n",
       "\n",
       "    .dataframe thead th {\n",
       "        text-align: right;\n",
       "    }\n",
       "</style>\n",
       "<table border=\"1\" class=\"dataframe\">\n",
       "  <thead>\n",
       "    <tr style=\"text-align: right;\">\n",
       "      <th></th>\n",
       "      <th>movie title</th>\n",
       "      <th>Rating_counts</th>\n",
       "    </tr>\n",
       "  </thead>\n",
       "  <tbody>\n",
       "    <tr>\n",
       "      <th>2</th>\n",
       "      <td>101 Dalmatians</td>\n",
       "      <td>109</td>\n",
       "    </tr>\n",
       "    <tr>\n",
       "      <th>3</th>\n",
       "      <td>12 Angry Men</td>\n",
       "      <td>125</td>\n",
       "    </tr>\n",
       "    <tr>\n",
       "      <th>7</th>\n",
       "      <td>2001: A Space Odyssey</td>\n",
       "      <td>259</td>\n",
       "    </tr>\n",
       "    <tr>\n",
       "      <th>15</th>\n",
       "      <td>Absolute Power</td>\n",
       "      <td>127</td>\n",
       "    </tr>\n",
       "    <tr>\n",
       "      <th>16</th>\n",
       "      <td>Abyss, The</td>\n",
       "      <td>151</td>\n",
       "    </tr>\n",
       "  </tbody>\n",
       "</table>\n",
       "</div>"
      ],
      "text/plain": [
       "               movie title  Rating_counts\n",
       "2          101 Dalmatians             109\n",
       "3            12 Angry Men             125\n",
       "7   2001: A Space Odyssey             259\n",
       "15         Absolute Power             127\n",
       "16             Abyss, The             151"
      ]
     },
     "execution_count": 40,
     "metadata": {},
     "output_type": "execute_result"
    }
   ],
   "source": [
    "movie_100.head()"
   ]
  },
  {
   "cell_type": "markdown",
   "metadata": {
    "id": "o3ov-T6-ZXIY"
   },
   "source": [
    "We can merge both the datasets, and have a combined view on the basis of Average rating and rating counts"
   ]
  },
  {
   "cell_type": "code",
   "execution_count": 41,
   "metadata": {
    "colab": {
     "base_uri": "https://localhost:8080/",
     "height": 424
    },
    "id": "7nPRGpTti0FB",
    "outputId": "f69aef4c-ff78-41d5-bf82-8983410d472d"
   },
   "outputs": [
    {
     "data": {
      "text/html": [
       "<div>\n",
       "<style scoped>\n",
       "    .dataframe tbody tr th:only-of-type {\n",
       "        vertical-align: middle;\n",
       "    }\n",
       "\n",
       "    .dataframe tbody tr th {\n",
       "        vertical-align: top;\n",
       "    }\n",
       "\n",
       "    .dataframe thead th {\n",
       "        text-align: right;\n",
       "    }\n",
       "</style>\n",
       "<table border=\"1\" class=\"dataframe\">\n",
       "  <thead>\n",
       "    <tr style=\"text-align: right;\">\n",
       "      <th></th>\n",
       "      <th>movie title</th>\n",
       "      <th>Avg_rating</th>\n",
       "      <th>Rating_counts</th>\n",
       "    </tr>\n",
       "  </thead>\n",
       "  <tbody>\n",
       "    <tr>\n",
       "      <th>0</th>\n",
       "      <td>101 Dalmatians</td>\n",
       "      <td>2.908257</td>\n",
       "      <td>109</td>\n",
       "    </tr>\n",
       "    <tr>\n",
       "      <th>1</th>\n",
       "      <td>12 Angry Men</td>\n",
       "      <td>4.344000</td>\n",
       "      <td>125</td>\n",
       "    </tr>\n",
       "    <tr>\n",
       "      <th>2</th>\n",
       "      <td>2001: A Space Odyssey</td>\n",
       "      <td>3.969112</td>\n",
       "      <td>259</td>\n",
       "    </tr>\n",
       "    <tr>\n",
       "      <th>3</th>\n",
       "      <td>Absolute Power</td>\n",
       "      <td>3.370079</td>\n",
       "      <td>127</td>\n",
       "    </tr>\n",
       "    <tr>\n",
       "      <th>4</th>\n",
       "      <td>Abyss, The</td>\n",
       "      <td>3.589404</td>\n",
       "      <td>151</td>\n",
       "    </tr>\n",
       "    <tr>\n",
       "      <th>...</th>\n",
       "      <td>...</td>\n",
       "      <td>...</td>\n",
       "      <td>...</td>\n",
       "    </tr>\n",
       "    <tr>\n",
       "      <th>329</th>\n",
       "      <td>Willy Wonka and the Chocolate Factory</td>\n",
       "      <td>3.631902</td>\n",
       "      <td>326</td>\n",
       "    </tr>\n",
       "    <tr>\n",
       "      <th>330</th>\n",
       "      <td>Wizard of Oz, The</td>\n",
       "      <td>4.077236</td>\n",
       "      <td>246</td>\n",
       "    </tr>\n",
       "    <tr>\n",
       "      <th>331</th>\n",
       "      <td>Wrong Trousers, The</td>\n",
       "      <td>4.466102</td>\n",
       "      <td>118</td>\n",
       "    </tr>\n",
       "    <tr>\n",
       "      <th>332</th>\n",
       "      <td>Young Frankenstein</td>\n",
       "      <td>3.945000</td>\n",
       "      <td>200</td>\n",
       "    </tr>\n",
       "    <tr>\n",
       "      <th>333</th>\n",
       "      <td>Young Guns</td>\n",
       "      <td>3.207921</td>\n",
       "      <td>101</td>\n",
       "    </tr>\n",
       "  </tbody>\n",
       "</table>\n",
       "<p>334 rows × 3 columns</p>\n",
       "</div>"
      ],
      "text/plain": [
       "                                movie title  Avg_rating  Rating_counts\n",
       "0                           101 Dalmatians     2.908257            109\n",
       "1                             12 Angry Men     4.344000            125\n",
       "2                    2001: A Space Odyssey     3.969112            259\n",
       "3                           Absolute Power     3.370079            127\n",
       "4                               Abyss, The     3.589404            151\n",
       "..                                      ...         ...            ...\n",
       "329  Willy Wonka and the Chocolate Factory     3.631902            326\n",
       "330                      Wizard of Oz, The     4.077236            246\n",
       "331                    Wrong Trousers, The     4.466102            118\n",
       "332                     Young Frankenstein     3.945000            200\n",
       "333                             Young Guns     3.207921            101\n",
       "\n",
       "[334 rows x 3 columns]"
      ]
     },
     "execution_count": 41,
     "metadata": {},
     "output_type": "execute_result"
    }
   ],
   "source": [
    "df_top= avg_rating.merge(movie_100, on = 'movie title', how = 'inner')\n",
    "df_top"
   ]
  },
  {
   "cell_type": "code",
   "execution_count": 42,
   "metadata": {
    "colab": {
     "base_uri": "https://localhost:8080/",
     "height": 833
    },
    "id": "quaeJVgfi1lZ",
    "outputId": "bcefe543-4214-4251-c44f-7f5bff152366"
   },
   "outputs": [
    {
     "data": {
      "text/html": [
       "<div>\n",
       "<style scoped>\n",
       "    .dataframe tbody tr th:only-of-type {\n",
       "        vertical-align: middle;\n",
       "    }\n",
       "\n",
       "    .dataframe tbody tr th {\n",
       "        vertical-align: top;\n",
       "    }\n",
       "\n",
       "    .dataframe thead th {\n",
       "        text-align: right;\n",
       "    }\n",
       "</style>\n",
       "<table border=\"1\" class=\"dataframe\">\n",
       "  <thead>\n",
       "    <tr style=\"text-align: right;\">\n",
       "      <th></th>\n",
       "      <th>movie title</th>\n",
       "      <th>Avg_rating</th>\n",
       "      <th>Rating_counts</th>\n",
       "    </tr>\n",
       "  </thead>\n",
       "  <tbody>\n",
       "    <tr>\n",
       "      <th>63</th>\n",
       "      <td>Close Shave, A</td>\n",
       "      <td>4.491071</td>\n",
       "      <td>112</td>\n",
       "    </tr>\n",
       "    <tr>\n",
       "      <th>260</th>\n",
       "      <td>Schindler's List</td>\n",
       "      <td>4.466443</td>\n",
       "      <td>298</td>\n",
       "    </tr>\n",
       "    <tr>\n",
       "      <th>331</th>\n",
       "      <td>Wrong Trousers, The</td>\n",
       "      <td>4.466102</td>\n",
       "      <td>118</td>\n",
       "    </tr>\n",
       "    <tr>\n",
       "      <th>54</th>\n",
       "      <td>Casablanca</td>\n",
       "      <td>4.456790</td>\n",
       "      <td>243</td>\n",
       "    </tr>\n",
       "    <tr>\n",
       "      <th>269</th>\n",
       "      <td>Shawshank Redemption, The</td>\n",
       "      <td>4.445230</td>\n",
       "      <td>283</td>\n",
       "    </tr>\n",
       "    <tr>\n",
       "      <th>248</th>\n",
       "      <td>Rear Window</td>\n",
       "      <td>4.387560</td>\n",
       "      <td>209</td>\n",
       "    </tr>\n",
       "    <tr>\n",
       "      <th>319</th>\n",
       "      <td>Usual Suspects, The</td>\n",
       "      <td>4.385768</td>\n",
       "      <td>267</td>\n",
       "    </tr>\n",
       "    <tr>\n",
       "      <th>291</th>\n",
       "      <td>Star Wars</td>\n",
       "      <td>4.358491</td>\n",
       "      <td>583</td>\n",
       "    </tr>\n",
       "    <tr>\n",
       "      <th>1</th>\n",
       "      <td>12 Angry Men</td>\n",
       "      <td>4.344000</td>\n",
       "      <td>125</td>\n",
       "    </tr>\n",
       "    <tr>\n",
       "      <th>59</th>\n",
       "      <td>Citizen Kane</td>\n",
       "      <td>4.292929</td>\n",
       "      <td>198</td>\n",
       "    </tr>\n",
       "    <tr>\n",
       "      <th>305</th>\n",
       "      <td>To Kill a Mockingbird</td>\n",
       "      <td>4.292237</td>\n",
       "      <td>219</td>\n",
       "    </tr>\n",
       "    <tr>\n",
       "      <th>222</th>\n",
       "      <td>One Flew Over the Cuckoo's Nest</td>\n",
       "      <td>4.291667</td>\n",
       "      <td>264</td>\n",
       "    </tr>\n",
       "    <tr>\n",
       "      <th>272</th>\n",
       "      <td>Silence of the Lambs, The</td>\n",
       "      <td>4.289744</td>\n",
       "      <td>390</td>\n",
       "    </tr>\n",
       "    <tr>\n",
       "      <th>218</th>\n",
       "      <td>North by Northwest</td>\n",
       "      <td>4.284916</td>\n",
       "      <td>179</td>\n",
       "    </tr>\n",
       "    <tr>\n",
       "      <th>131</th>\n",
       "      <td>Godfather, The</td>\n",
       "      <td>4.283293</td>\n",
       "      <td>413</td>\n",
       "    </tr>\n",
       "    <tr>\n",
       "      <th>264</th>\n",
       "      <td>Secrets &amp; Lies</td>\n",
       "      <td>4.265432</td>\n",
       "      <td>162</td>\n",
       "    </tr>\n",
       "    <tr>\n",
       "      <th>135</th>\n",
       "      <td>Good Will Hunting</td>\n",
       "      <td>4.262626</td>\n",
       "      <td>198</td>\n",
       "    </tr>\n",
       "    <tr>\n",
       "      <th>189</th>\n",
       "      <td>Manchurian Candidate, The</td>\n",
       "      <td>4.259542</td>\n",
       "      <td>131</td>\n",
       "    </tr>\n",
       "    <tr>\n",
       "      <th>91</th>\n",
       "      <td>Dr. Strangelove or: How I Learned to Stop Worr...</td>\n",
       "      <td>4.252577</td>\n",
       "      <td>194</td>\n",
       "    </tr>\n",
       "    <tr>\n",
       "      <th>243</th>\n",
       "      <td>Raiders of the Lost Ark</td>\n",
       "      <td>4.252381</td>\n",
       "      <td>420</td>\n",
       "    </tr>\n",
       "    <tr>\n",
       "      <th>320</th>\n",
       "      <td>Vertigo</td>\n",
       "      <td>4.251397</td>\n",
       "      <td>179</td>\n",
       "    </tr>\n",
       "    <tr>\n",
       "      <th>304</th>\n",
       "      <td>Titanic</td>\n",
       "      <td>4.245714</td>\n",
       "      <td>350</td>\n",
       "    </tr>\n",
       "    <tr>\n",
       "      <th>176</th>\n",
       "      <td>Lawrence of Arabia</td>\n",
       "      <td>4.231214</td>\n",
       "      <td>173</td>\n",
       "    </tr>\n",
       "    <tr>\n",
       "      <th>188</th>\n",
       "      <td>Maltese Falcon, The</td>\n",
       "      <td>4.210145</td>\n",
       "      <td>138</td>\n",
       "    </tr>\n",
       "    <tr>\n",
       "      <th>98</th>\n",
       "      <td>Empire Strikes Back, The</td>\n",
       "      <td>4.204360</td>\n",
       "      <td>367</td>\n",
       "    </tr>\n",
       "  </tbody>\n",
       "</table>\n",
       "</div>"
      ],
      "text/plain": [
       "                                           movie title  Avg_rating  \\\n",
       "63                                     Close Shave, A     4.491071   \n",
       "260                                  Schindler's List     4.466443   \n",
       "331                               Wrong Trousers, The     4.466102   \n",
       "54                                         Casablanca     4.456790   \n",
       "269                         Shawshank Redemption, The     4.445230   \n",
       "248                                       Rear Window     4.387560   \n",
       "319                               Usual Suspects, The     4.385768   \n",
       "291                                         Star Wars     4.358491   \n",
       "1                                        12 Angry Men     4.344000   \n",
       "59                                       Citizen Kane     4.292929   \n",
       "305                             To Kill a Mockingbird     4.292237   \n",
       "222                   One Flew Over the Cuckoo's Nest     4.291667   \n",
       "272                         Silence of the Lambs, The     4.289744   \n",
       "218                                North by Northwest     4.284916   \n",
       "131                                    Godfather, The     4.283293   \n",
       "264                                    Secrets & Lies     4.265432   \n",
       "135                                 Good Will Hunting     4.262626   \n",
       "189                         Manchurian Candidate, The     4.259542   \n",
       "91   Dr. Strangelove or: How I Learned to Stop Worr...    4.252577   \n",
       "243                           Raiders of the Lost Ark     4.252381   \n",
       "320                                           Vertigo     4.251397   \n",
       "304                                           Titanic     4.245714   \n",
       "176                                Lawrence of Arabia     4.231214   \n",
       "188                               Maltese Falcon, The     4.210145   \n",
       "98                           Empire Strikes Back, The     4.204360   \n",
       "\n",
       "     Rating_counts  \n",
       "63             112  \n",
       "260            298  \n",
       "331            118  \n",
       "54             243  \n",
       "269            283  \n",
       "248            209  \n",
       "319            267  \n",
       "291            583  \n",
       "1              125  \n",
       "59             198  \n",
       "305            219  \n",
       "222            264  \n",
       "272            390  \n",
       "218            179  \n",
       "131            413  \n",
       "264            162  \n",
       "135            198  \n",
       "189            131  \n",
       "91             194  \n",
       "243            420  \n",
       "320            179  \n",
       "304            350  \n",
       "176            173  \n",
       "188            138  \n",
       "98             367  "
      ]
     },
     "execution_count": 42,
     "metadata": {},
     "output_type": "execute_result"
    }
   ],
   "source": [
    "df_top.sort_values(ascending=False, by='Avg_rating').head(25) #display top 25 movies on the basis of average rating"
   ]
  },
  {
   "cell_type": "markdown",
   "metadata": {
    "id": "qF8ot8XhZd-M"
   },
   "source": [
    "Similarly we can sort them as per the ratings counts also"
   ]
  },
  {
   "cell_type": "code",
   "execution_count": 43,
   "metadata": {
    "colab": {
     "base_uri": "https://localhost:8080/",
     "height": 833
    },
    "id": "QfzcsfpjZgnR",
    "outputId": "c4e92e6a-60cb-4b9b-fb22-574c3cebda87"
   },
   "outputs": [
    {
     "data": {
      "text/html": [
       "<div>\n",
       "<style scoped>\n",
       "    .dataframe tbody tr th:only-of-type {\n",
       "        vertical-align: middle;\n",
       "    }\n",
       "\n",
       "    .dataframe tbody tr th {\n",
       "        vertical-align: top;\n",
       "    }\n",
       "\n",
       "    .dataframe thead th {\n",
       "        text-align: right;\n",
       "    }\n",
       "</style>\n",
       "<table border=\"1\" class=\"dataframe\">\n",
       "  <thead>\n",
       "    <tr style=\"text-align: right;\">\n",
       "      <th></th>\n",
       "      <th>movie title</th>\n",
       "      <th>Avg_rating</th>\n",
       "      <th>Rating_counts</th>\n",
       "    </tr>\n",
       "  </thead>\n",
       "  <tbody>\n",
       "    <tr>\n",
       "      <th>291</th>\n",
       "      <td>Star Wars</td>\n",
       "      <td>4.358491</td>\n",
       "      <td>583</td>\n",
       "    </tr>\n",
       "    <tr>\n",
       "      <th>69</th>\n",
       "      <td>Contact</td>\n",
       "      <td>3.803536</td>\n",
       "      <td>509</td>\n",
       "    </tr>\n",
       "    <tr>\n",
       "      <th>107</th>\n",
       "      <td>Fargo</td>\n",
       "      <td>4.155512</td>\n",
       "      <td>508</td>\n",
       "    </tr>\n",
       "    <tr>\n",
       "      <th>251</th>\n",
       "      <td>Return of the Jedi</td>\n",
       "      <td>4.007890</td>\n",
       "      <td>507</td>\n",
       "    </tr>\n",
       "    <tr>\n",
       "      <th>178</th>\n",
       "      <td>Liar Liar</td>\n",
       "      <td>3.156701</td>\n",
       "      <td>485</td>\n",
       "    </tr>\n",
       "    <tr>\n",
       "      <th>99</th>\n",
       "      <td>English Patient, The</td>\n",
       "      <td>3.656965</td>\n",
       "      <td>481</td>\n",
       "    </tr>\n",
       "    <tr>\n",
       "      <th>261</th>\n",
       "      <td>Scream</td>\n",
       "      <td>3.441423</td>\n",
       "      <td>478</td>\n",
       "    </tr>\n",
       "    <tr>\n",
       "      <th>309</th>\n",
       "      <td>Toy Story</td>\n",
       "      <td>3.878319</td>\n",
       "      <td>452</td>\n",
       "    </tr>\n",
       "    <tr>\n",
       "      <th>8</th>\n",
       "      <td>Air Force One</td>\n",
       "      <td>3.631090</td>\n",
       "      <td>431</td>\n",
       "    </tr>\n",
       "    <tr>\n",
       "      <th>159</th>\n",
       "      <td>Independence Day (ID4)</td>\n",
       "      <td>3.438228</td>\n",
       "      <td>429</td>\n",
       "    </tr>\n",
       "    <tr>\n",
       "      <th>243</th>\n",
       "      <td>Raiders of the Lost Ark</td>\n",
       "      <td>4.252381</td>\n",
       "      <td>420</td>\n",
       "    </tr>\n",
       "    <tr>\n",
       "      <th>131</th>\n",
       "      <td>Godfather, The</td>\n",
       "      <td>4.283293</td>\n",
       "      <td>413</td>\n",
       "    </tr>\n",
       "    <tr>\n",
       "      <th>240</th>\n",
       "      <td>Pulp Fiction</td>\n",
       "      <td>4.060914</td>\n",
       "      <td>394</td>\n",
       "    </tr>\n",
       "    <tr>\n",
       "      <th>314</th>\n",
       "      <td>Twelve Monkeys</td>\n",
       "      <td>3.798469</td>\n",
       "      <td>392</td>\n",
       "    </tr>\n",
       "    <tr>\n",
       "      <th>272</th>\n",
       "      <td>Silence of the Lambs, The</td>\n",
       "      <td>4.289744</td>\n",
       "      <td>390</td>\n",
       "    </tr>\n",
       "    <tr>\n",
       "      <th>167</th>\n",
       "      <td>Jerry Maguire</td>\n",
       "      <td>3.710938</td>\n",
       "      <td>384</td>\n",
       "    </tr>\n",
       "    <tr>\n",
       "      <th>55</th>\n",
       "      <td>Chasing Amy</td>\n",
       "      <td>3.839050</td>\n",
       "      <td>379</td>\n",
       "    </tr>\n",
       "    <tr>\n",
       "      <th>254</th>\n",
       "      <td>Rock, The</td>\n",
       "      <td>3.693122</td>\n",
       "      <td>378</td>\n",
       "    </tr>\n",
       "    <tr>\n",
       "      <th>98</th>\n",
       "      <td>Empire Strikes Back, The</td>\n",
       "      <td>4.204360</td>\n",
       "      <td>367</td>\n",
       "    </tr>\n",
       "    <tr>\n",
       "      <th>287</th>\n",
       "      <td>Star Trek: First Contact</td>\n",
       "      <td>3.660274</td>\n",
       "      <td>365</td>\n",
       "    </tr>\n",
       "    <tr>\n",
       "      <th>304</th>\n",
       "      <td>Titanic</td>\n",
       "      <td>4.245714</td>\n",
       "      <td>350</td>\n",
       "    </tr>\n",
       "    <tr>\n",
       "      <th>25</th>\n",
       "      <td>Back to the Future</td>\n",
       "      <td>3.834286</td>\n",
       "      <td>350</td>\n",
       "    </tr>\n",
       "    <tr>\n",
       "      <th>199</th>\n",
       "      <td>Mission: Impossible</td>\n",
       "      <td>3.313953</td>\n",
       "      <td>344</td>\n",
       "    </tr>\n",
       "    <tr>\n",
       "      <th>119</th>\n",
       "      <td>Fugitive, The</td>\n",
       "      <td>4.044643</td>\n",
       "      <td>336</td>\n",
       "    </tr>\n",
       "    <tr>\n",
       "      <th>160</th>\n",
       "      <td>Indiana Jones and the Last Crusade</td>\n",
       "      <td>3.930514</td>\n",
       "      <td>331</td>\n",
       "    </tr>\n",
       "  </tbody>\n",
       "</table>\n",
       "</div>"
      ],
      "text/plain": [
       "                             movie title  Avg_rating  Rating_counts\n",
       "291                           Star Wars     4.358491            583\n",
       "69                              Contact     3.803536            509\n",
       "107                               Fargo     4.155512            508\n",
       "251                  Return of the Jedi     4.007890            507\n",
       "178                           Liar Liar     3.156701            485\n",
       "99                 English Patient, The     3.656965            481\n",
       "261                              Scream     3.441423            478\n",
       "309                           Toy Story     3.878319            452\n",
       "8                         Air Force One     3.631090            431\n",
       "159              Independence Day (ID4)     3.438228            429\n",
       "243             Raiders of the Lost Ark     4.252381            420\n",
       "131                      Godfather, The     4.283293            413\n",
       "240                        Pulp Fiction     4.060914            394\n",
       "314                      Twelve Monkeys     3.798469            392\n",
       "272           Silence of the Lambs, The     4.289744            390\n",
       "167                       Jerry Maguire     3.710938            384\n",
       "55                          Chasing Amy     3.839050            379\n",
       "254                           Rock, The     3.693122            378\n",
       "98             Empire Strikes Back, The     4.204360            367\n",
       "287            Star Trek: First Contact     3.660274            365\n",
       "304                             Titanic     4.245714            350\n",
       "25                   Back to the Future     3.834286            350\n",
       "199                 Mission: Impossible     3.313953            344\n",
       "119                       Fugitive, The     4.044643            336\n",
       "160  Indiana Jones and the Last Crusade     3.930514            331"
      ]
     },
     "execution_count": 43,
     "metadata": {},
     "output_type": "execute_result"
    }
   ],
   "source": [
    "df_top.sort_values(ascending=False, by='Rating_counts').head(25) #display top 25 movies on the basis of rating counts"
   ]
  },
  {
   "cell_type": "markdown",
   "metadata": {
    "id": "kjWjSitQZH00"
   },
   "source": [
    "<h1><font size=5>Insights</font></h1>\n"
   ]
  },
  {
   "cell_type": "markdown",
   "metadata": {
    "id": "oYWgSAUBZmiF"
   },
   "source": [
    "- *There are 334 movies in total which have received ratings more than 100 times*\n",
    "- *As per the average rating, **Close Shave, A** has maximum average rating with a rating count of 112*\n",
    "- *As per the rating counts, **Star Wars** has received maximum number counts with an average rating of 4.35*\n",
    "- *There are few movies which have least rating counts like Paris Was a Woman\t,Á köldum klaka (Cold Fever)*"
   ]
  },
  {
   "cell_type": "markdown",
   "metadata": {
    "id": "5YWBMY8IaV95"
   },
   "source": [
    "Since we have extracted the top rated movies with most number of ratings given by users. "
   ]
  },
  {
   "cell_type": "markdown",
   "metadata": {
    "id": "XAaL4nyKi3M_"
   },
   "source": [
    "<h1><font size=6>Can we extract some relationship between demographic details of the users and ratings for the movies?</font></h1>\n",
    "\n",
    "****\n",
    "\n"
   ]
  },
  {
   "cell_type": "markdown",
   "metadata": {
    "id": "zHVAdGNai8iA"
   },
   "source": [
    "All the datasets can be used to identify the demography of the users. Therefore, we will merge all the datasets together and perform the analysis\n",
    "\n",
    "Since we have already merged datasets `rating` and `movie` in a variable `df_merge`, therefore we can merge the dataset `user` with this dataset"
   ]
  },
  {
   "cell_type": "code",
   "execution_count": 44,
   "metadata": {
    "id": "yQ_wpyXSi92P"
   },
   "outputs": [],
   "source": [
    "# Merging user dataset with movie and ratings(already merged : df_merge) dataset\n",
    "df_merge_all = df_merge.merge(user, on = 'user id', how = 'inner')"
   ]
  },
  {
   "cell_type": "code",
   "execution_count": 45,
   "metadata": {
    "colab": {
     "base_uri": "https://localhost:8080/",
     "height": 392
    },
    "id": "R69H89yDi_E_",
    "outputId": "75c0a985-de08-46ec-fb69-21859223e724"
   },
   "outputs": [
    {
     "data": {
      "text/html": [
       "<div>\n",
       "<style scoped>\n",
       "    .dataframe tbody tr th:only-of-type {\n",
       "        vertical-align: middle;\n",
       "    }\n",
       "\n",
       "    .dataframe tbody tr th {\n",
       "        vertical-align: top;\n",
       "    }\n",
       "\n",
       "    .dataframe thead th {\n",
       "        text-align: right;\n",
       "    }\n",
       "</style>\n",
       "<table border=\"1\" class=\"dataframe\">\n",
       "  <thead>\n",
       "    <tr style=\"text-align: right;\">\n",
       "      <th></th>\n",
       "      <th>movie id</th>\n",
       "      <th>movie title</th>\n",
       "      <th>release date</th>\n",
       "      <th>Action</th>\n",
       "      <th>Adventure</th>\n",
       "      <th>Animation</th>\n",
       "      <th>Childrens</th>\n",
       "      <th>Comedy</th>\n",
       "      <th>Crime</th>\n",
       "      <th>Documentary</th>\n",
       "      <th>...</th>\n",
       "      <th>War</th>\n",
       "      <th>Western</th>\n",
       "      <th>Number of Genres</th>\n",
       "      <th>user id</th>\n",
       "      <th>rating</th>\n",
       "      <th>timestamp</th>\n",
       "      <th>age</th>\n",
       "      <th>gender</th>\n",
       "      <th>occupation</th>\n",
       "      <th>zip code</th>\n",
       "    </tr>\n",
       "  </thead>\n",
       "  <tbody>\n",
       "    <tr>\n",
       "      <th>0</th>\n",
       "      <td>1</td>\n",
       "      <td>Toy Story</td>\n",
       "      <td>1995-01-01</td>\n",
       "      <td>0</td>\n",
       "      <td>0</td>\n",
       "      <td>1</td>\n",
       "      <td>1</td>\n",
       "      <td>1</td>\n",
       "      <td>0</td>\n",
       "      <td>0</td>\n",
       "      <td>...</td>\n",
       "      <td>0</td>\n",
       "      <td>0</td>\n",
       "      <td>3</td>\n",
       "      <td>308</td>\n",
       "      <td>4</td>\n",
       "      <td>887736532</td>\n",
       "      <td>60</td>\n",
       "      <td>M</td>\n",
       "      <td>retired</td>\n",
       "      <td>95076</td>\n",
       "    </tr>\n",
       "    <tr>\n",
       "      <th>1</th>\n",
       "      <td>4</td>\n",
       "      <td>Get Shorty</td>\n",
       "      <td>1995-01-01</td>\n",
       "      <td>1</td>\n",
       "      <td>0</td>\n",
       "      <td>0</td>\n",
       "      <td>0</td>\n",
       "      <td>1</td>\n",
       "      <td>0</td>\n",
       "      <td>0</td>\n",
       "      <td>...</td>\n",
       "      <td>0</td>\n",
       "      <td>0</td>\n",
       "      <td>3</td>\n",
       "      <td>308</td>\n",
       "      <td>5</td>\n",
       "      <td>887737890</td>\n",
       "      <td>60</td>\n",
       "      <td>M</td>\n",
       "      <td>retired</td>\n",
       "      <td>95076</td>\n",
       "    </tr>\n",
       "    <tr>\n",
       "      <th>2</th>\n",
       "      <td>5</td>\n",
       "      <td>Copycat</td>\n",
       "      <td>1995-01-01</td>\n",
       "      <td>0</td>\n",
       "      <td>0</td>\n",
       "      <td>0</td>\n",
       "      <td>0</td>\n",
       "      <td>0</td>\n",
       "      <td>1</td>\n",
       "      <td>0</td>\n",
       "      <td>...</td>\n",
       "      <td>0</td>\n",
       "      <td>0</td>\n",
       "      <td>3</td>\n",
       "      <td>308</td>\n",
       "      <td>4</td>\n",
       "      <td>887739608</td>\n",
       "      <td>60</td>\n",
       "      <td>M</td>\n",
       "      <td>retired</td>\n",
       "      <td>95076</td>\n",
       "    </tr>\n",
       "    <tr>\n",
       "      <th>3</th>\n",
       "      <td>7</td>\n",
       "      <td>Twelve Monkeys</td>\n",
       "      <td>1995-01-01</td>\n",
       "      <td>0</td>\n",
       "      <td>0</td>\n",
       "      <td>0</td>\n",
       "      <td>0</td>\n",
       "      <td>0</td>\n",
       "      <td>0</td>\n",
       "      <td>0</td>\n",
       "      <td>...</td>\n",
       "      <td>0</td>\n",
       "      <td>0</td>\n",
       "      <td>2</td>\n",
       "      <td>308</td>\n",
       "      <td>4</td>\n",
       "      <td>887738847</td>\n",
       "      <td>60</td>\n",
       "      <td>M</td>\n",
       "      <td>retired</td>\n",
       "      <td>95076</td>\n",
       "    </tr>\n",
       "    <tr>\n",
       "      <th>4</th>\n",
       "      <td>8</td>\n",
       "      <td>Babe</td>\n",
       "      <td>1995-01-01</td>\n",
       "      <td>0</td>\n",
       "      <td>0</td>\n",
       "      <td>0</td>\n",
       "      <td>1</td>\n",
       "      <td>1</td>\n",
       "      <td>0</td>\n",
       "      <td>0</td>\n",
       "      <td>...</td>\n",
       "      <td>0</td>\n",
       "      <td>0</td>\n",
       "      <td>3</td>\n",
       "      <td>308</td>\n",
       "      <td>5</td>\n",
       "      <td>887736696</td>\n",
       "      <td>60</td>\n",
       "      <td>M</td>\n",
       "      <td>retired</td>\n",
       "      <td>95076</td>\n",
       "    </tr>\n",
       "  </tbody>\n",
       "</table>\n",
       "<p>5 rows × 29 columns</p>\n",
       "</div>"
      ],
      "text/plain": [
       "   movie id      movie title release date  Action  Adventure  Animation  \\\n",
       "0         1       Toy Story    1995-01-01       0          0          1   \n",
       "1         4      Get Shorty    1995-01-01       1          0          0   \n",
       "2         5         Copycat    1995-01-01       0          0          0   \n",
       "3         7  Twelve Monkeys    1995-01-01       0          0          0   \n",
       "4         8            Babe    1995-01-01       0          0          0   \n",
       "\n",
       "   Childrens  Comedy  Crime  Documentary  ...  War  Western  Number of Genres  \\\n",
       "0          1       1      0            0  ...    0        0                 3   \n",
       "1          0       1      0            0  ...    0        0                 3   \n",
       "2          0       0      1            0  ...    0        0                 3   \n",
       "3          0       0      0            0  ...    0        0                 2   \n",
       "4          1       1      0            0  ...    0        0                 3   \n",
       "\n",
       "   user id  rating  timestamp  age  gender  occupation  zip code  \n",
       "0      308       4  887736532   60       M     retired     95076  \n",
       "1      308       5  887737890   60       M     retired     95076  \n",
       "2      308       4  887739608   60       M     retired     95076  \n",
       "3      308       4  887738847   60       M     retired     95076  \n",
       "4      308       5  887736696   60       M     retired     95076  \n",
       "\n",
       "[5 rows x 29 columns]"
      ]
     },
     "execution_count": 45,
     "metadata": {},
     "output_type": "execute_result"
    }
   ],
   "source": [
    "df_merge_all.head()"
   ]
  },
  {
   "cell_type": "markdown",
   "metadata": {
    "id": "U2lPgIARjCDU"
   },
   "source": [
    "**Let's check on various attributes of the users in order to know the preferences for the movies and their genres**"
   ]
  },
  {
   "cell_type": "code",
   "execution_count": 46,
   "metadata": {
    "colab": {
     "base_uri": "https://localhost:8080/"
    },
    "id": "xOzX2dv8b4lX",
    "outputId": "1a077e01-c349-4418-d371-3fdfcbdfbcaf"
   },
   "outputs": [
    {
     "data": {
      "text/plain": [
       "gender\n",
       "M    0.710498\n",
       "F    0.289502\n",
       "Name: proportion, dtype: float64"
      ]
     },
     "execution_count": 46,
     "metadata": {},
     "output_type": "execute_result"
    }
   ],
   "source": [
    "user['gender'].value_counts(normalize=True) #this will give the proportion of males and females users extracted from User dataset "
   ]
  },
  {
   "cell_type": "code",
   "execution_count": 47,
   "metadata": {
    "colab": {
     "base_uri": "https://localhost:8080/"
    },
    "id": "DBA480h9jDSo",
    "outputId": "35278509-7d42-41b7-f123-5cc023a77fd3"
   },
   "outputs": [
    {
     "data": {
      "text/plain": [
       "gender\n",
       "F    3.531510\n",
       "M    3.529333\n",
       "Name: rating, dtype: float64"
      ]
     },
     "execution_count": 47,
     "metadata": {},
     "output_type": "execute_result"
    }
   ],
   "source": [
    "df_merge_all.groupby('gender').rating.mean() #grouping the dataset on 'gender' column and taking the average of ratings"
   ]
  },
  {
   "cell_type": "markdown",
   "metadata": {
    "id": "FV5wOwzLZ-0f"
   },
   "source": [
    "- *The average rating given by Males and Females is almost equal with a value of around 3.53*"
   ]
  },
  {
   "cell_type": "code",
   "execution_count": 48,
   "metadata": {
    "colab": {
     "base_uri": "https://localhost:8080/"
    },
    "id": "wjkX1hd0jEcH",
    "outputId": "351382ee-bc92-4c7f-8934-cc54cda45a83"
   },
   "outputs": [
    {
     "data": {
      "text/plain": [
       "occupation\n",
       "none             3.777778\n",
       "lawyer           3.735316\n",
       "doctor           3.688889\n",
       "educator         3.670692\n",
       "artist           3.653380\n",
       "administrator    3.635646\n",
       "scientist        3.611273\n",
       "salesman         3.582944\n",
       "programmer       3.568205\n",
       "librarian        3.560781\n",
       "other            3.552335\n",
       "engineer         3.541473\n",
       "technician       3.532097\n",
       "student          3.515167\n",
       "marketing        3.485641\n",
       "retired          3.466750\n",
       "entertainment    3.440783\n",
       "writer           3.376152\n",
       "executive        3.349794\n",
       "homemaker        3.301003\n",
       "healthcare       2.896220\n",
       "Name: rating, dtype: float64"
      ]
     },
     "execution_count": 48,
     "metadata": {},
     "output_type": "execute_result"
    }
   ],
   "source": [
    "df_merge_all.groupby('occupation').rating.mean().sort_values(ascending= False) #grouping the dataset on 'occupation' column and taking the average of ratings."
   ]
  },
  {
   "cell_type": "markdown",
   "metadata": {
    "id": "7ajb8u7daB_G"
   },
   "source": [
    "- *Users who are not working have given highest ratings as compared to users who are working professionals* \n",
    "- *Healthcare workers have given lowest ratings on an average* "
   ]
  },
  {
   "cell_type": "code",
   "execution_count": 49,
   "metadata": {
    "colab": {
     "base_uri": "https://localhost:8080/"
    },
    "id": "oIOTEyNFjF68",
    "outputId": "aad5d0e9-4b80-47d3-d1a1-ac2a724040b2"
   },
   "outputs": [
    {
     "data": {
      "text/plain": [
       "occupation     gender\n",
       "administrator  F         3.781839\n",
       "               M         3.555233\n",
       "artist         F         3.347065\n",
       "               M         3.875841\n",
       "doctor         M         3.688889\n",
       "educator       F         3.699132\n",
       "               M         3.660246\n",
       "engineer       F         3.751724\n",
       "               M         3.537676\n",
       "entertainment  F         3.448889\n",
       "               M         3.439807\n",
       "executive      F         3.773756\n",
       "               M         3.320340\n",
       "healthcare     F         2.736021\n",
       "               M         3.639839\n",
       "homemaker      F         3.278810\n",
       "               M         3.500000\n",
       "lawyer         F         3.623188\n",
       "               M         3.741379\n",
       "librarian      F         3.580070\n",
       "               M         3.537920\n",
       "marketing      F         3.522624\n",
       "               M         3.474801\n",
       "none           F         3.632877\n",
       "               M         3.876636\n",
       "other          F         3.531114\n",
       "               M         3.563447\n",
       "programmer     F         3.577566\n",
       "               M         3.567674\n",
       "retired        F         3.239437\n",
       "               M         3.477243\n",
       "salesman       F         3.870206\n",
       "               M         3.394584\n",
       "scientist      F         3.251799\n",
       "               M         3.637311\n",
       "student        F         3.602879\n",
       "               M         3.484440\n",
       "technician     F         3.268519\n",
       "               M         3.540477\n",
       "writer         F         3.663986\n",
       "               M         3.180770\n",
       "Name: rating, dtype: float64"
      ]
     },
     "execution_count": 49,
     "metadata": {},
     "output_type": "execute_result"
    }
   ],
   "source": [
    "df_merge_all.groupby(['occupation','gender']).rating.mean()"
   ]
  },
  {
   "cell_type": "markdown",
   "metadata": {
    "id": "CIG6FHyxbHaE"
   },
   "source": [
    "<h1><font size=5>Insights</font></h1>\n"
   ]
  },
  {
   "cell_type": "markdown",
   "metadata": {
    "id": "KQrA7qBViaCE"
   },
   "source": [
    "- *Around 71% of users are Males while only 29% users are females*\n",
    "- *The average rating given by Males and Females is almost equal with a value of around 3.53*\n",
    "- *Users who are not working have given highest ratings as compared to users who are working professionals* \n",
    "- *Healthcare workers have given lowest ratings on an average* \n",
    "- *The low ratings from the healthcare sector is majorly driven by female workers*\n",
    "- *Only male doctors have given ratings. No female doctors have given ratings as per the observations*"
   ]
  },
  {
   "cell_type": "markdown",
   "metadata": {
    "id": "E8N2Q71caJTN"
   },
   "source": [
    "### **Executive Summary**"
   ]
  },
  {
   "cell_type": "markdown",
   "metadata": {
    "id": "2_fB5EYJaNeK"
   },
   "source": [
    "- *Movies are distributed across 18 genres in total*\n",
    "- *The top five genres with the highest number of movies are 'Drama', 'Comedy', 'Action', 'Thriller', and 'Romance'*\n",
    "- *Out of 1680 movies, 50% of the movies have more than one genre, while the rest have a single genre*\n",
    "- The *'Film-Noir' genre has the highest average ratings with an average rating of 3.92, while the 'Fantasy' genre has the lowest average ratings with an average rating of 3.21*\n",
    "- *Among 18 genres, 72% of the genres are rated above average 3.5*\n",
    "- *Movies like **Great Day in Harlem, A**, **Prefontaine**, etc. are top-rated movies, while movies like **Shadow of Angels (Schatten der Engel)**, **Power 98**, etc. are least rated*\n",
    "- *There are 334 movies in total which have been rated more than 100 times*\n",
    "- *The movie **Close Shave, A** has the highest average rating and was rated 112 times, while the **Star Wars** movie received the highest number of ratings with an average rating of 4.35*\n",
    "- *Around 71% of users are Males while only 29% users are females*\n",
    "- *The average rating given by Males and Females is almost equal with a value of around 3.53*\n",
    "- *Users who are not working have rated movies higher compared to users who are working professionals*\n",
    "- *Healthcare workers have given the lowest ratings on an average* "
   ]
  },
  {
   "cell_type": "markdown",
   "metadata": {
    "id": "yBz2DHeyeufg"
   },
   "source": [
    "# Happy Learning !"
   ]
  },
  {
   "cell_type": "markdown",
   "metadata": {
    "id": "i6I-rzUoeqDb"
   },
   "source": [
    "---"
   ]
  }
 ],
 "metadata": {
  "colab": {
   "collapsed_sections": [],
   "name": "MovieLens Case Study.ipynb",
   "provenance": []
  },
  "kernelspec": {
   "display_name": "Python 3 (ipykernel)",
   "language": "python",
   "name": "python3"
  },
  "language_info": {
   "codemirror_mode": {
    "name": "ipython",
    "version": 3
   },
   "file_extension": ".py",
   "mimetype": "text/x-python",
   "name": "python",
   "nbconvert_exporter": "python",
   "pygments_lexer": "ipython3",
   "version": "3.11.5"
  }
 },
 "nbformat": 4,
 "nbformat_minor": 1
}
